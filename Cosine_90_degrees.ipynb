{
 "cells": [
  {
   "cell_type": "code",
   "execution_count": 1,
   "id": "37086fd8",
   "metadata": {},
   "outputs": [],
   "source": [
    "import torch\n",
    "import numpy as np"
   ]
  },
  {
   "cell_type": "code",
   "execution_count": 7,
   "id": "f1d78750",
   "metadata": {},
   "outputs": [],
   "source": [
    "def cosine_degree(a,b):\n",
    "    '''\n",
    "    function for obtaining the degrees between two different vectors\n",
    "    By using, cosine rule formula\n",
    "    cos(theta) = dot(a,b)/(abs(a)*abs(b)) --> mid\n",
    "    theta = np.rad2deg(np.acos(mid))\n",
    "    '''\n",
    "    \n",
    "    mid = np.dot(a,b)/np.sqrt(np.sum(a**2))/np.sqrt(np.sum(b**2))\n",
    "    theta = np.rad2deg(np.arccos(mid))\n",
    "    return theta"
   ]
  },
  {
   "cell_type": "code",
   "execution_count": 8,
   "id": "cf0c905a",
   "metadata": {},
   "outputs": [
    {
     "name": "stdout",
     "output_type": "stream",
     "text": [
      "45.00000000000001\n"
     ]
    }
   ],
   "source": [
    "a = np.array([1,0])\n",
    "b = np.array([1,1])\n",
    "print(cosine_degree(a,b))"
   ]
  },
  {
   "cell_type": "code",
   "execution_count": 49,
   "id": "abecfc2a",
   "metadata": {},
   "outputs": [
    {
     "name": "stdout",
     "output_type": "stream",
     "text": [
      "(15,)\n",
      "(15,)\n"
     ]
    }
   ],
   "source": [
    "a = np.random.randn(3,5)\n",
    "a = a.reshape(-1)\n",
    "print(a.shape)\n",
    "\n",
    "b = a+1e-04*np.random.randn(a.size)\n",
    "print(b.shape)"
   ]
  },
  {
   "cell_type": "code",
   "execution_count": 50,
   "id": "da180f76",
   "metadata": {},
   "outputs": [
    {
     "name": "stdout",
     "output_type": "stream",
     "text": [
      "0.004360906214805115\n"
     ]
    }
   ],
   "source": [
    "print(cosine_degree(a,b))"
   ]
  },
  {
   "cell_type": "code",
   "execution_count": 16,
   "id": "3e605d27",
   "metadata": {},
   "outputs": [
    {
     "name": "stdout",
     "output_type": "stream",
     "text": [
      "(15,)\n"
     ]
    }
   ],
   "source": [
    "a = a.reshape(-1)\n",
    "print(a.shape)"
   ]
  },
  {
   "cell_type": "code",
   "execution_count": 51,
   "id": "f8eb28b8",
   "metadata": {},
   "outputs": [],
   "source": [
    "##  torch vertsion cosine similarity\n",
    "def torch_cosine_degree(a,b):\n",
    "    '''\n",
    "    function for obtaining the degrees between two different vectors\n",
    "    By using, cosine rule formula\n",
    "    cos(theta) = dot(a,b)/(abs(a)*abs(b)) --> mid\n",
    "    theta = np.rad2deg(np.acos(mid))\n",
    "    '''\n",
    "    \n",
    "    mid = torch.dot(a,b)/torch.sqrt(torch.sum(a**2))/torch.sqrt(torch.sum(b**2))\n",
    "    theta = torch.rad2deg(torch.arccos(mid))\n",
    "    return theta"
   ]
  },
  {
   "cell_type": "code",
   "execution_count": 52,
   "id": "06c8c89e",
   "metadata": {},
   "outputs": [
    {
     "name": "stdout",
     "output_type": "stream",
     "text": [
      "tensor(45.)\n"
     ]
    }
   ],
   "source": [
    "a = torch.Tensor([1,0])\n",
    "b = torch.Tensor([1,1])\n",
    "print(torch_cosine_degree(a,b))"
   ]
  },
  {
   "cell_type": "code",
   "execution_count": null,
   "id": "30329a0c",
   "metadata": {},
   "outputs": [],
   "source": []
  }
 ],
 "metadata": {
  "kernelspec": {
   "display_name": "Python [conda env:pytorch] *",
   "language": "python",
   "name": "conda-env-pytorch-py"
  },
  "language_info": {
   "codemirror_mode": {
    "name": "ipython",
    "version": 3
   },
   "file_extension": ".py",
   "mimetype": "text/x-python",
   "name": "python",
   "nbconvert_exporter": "python",
   "pygments_lexer": "ipython3",
   "version": "3.8.10"
  }
 },
 "nbformat": 4,
 "nbformat_minor": 5
}
