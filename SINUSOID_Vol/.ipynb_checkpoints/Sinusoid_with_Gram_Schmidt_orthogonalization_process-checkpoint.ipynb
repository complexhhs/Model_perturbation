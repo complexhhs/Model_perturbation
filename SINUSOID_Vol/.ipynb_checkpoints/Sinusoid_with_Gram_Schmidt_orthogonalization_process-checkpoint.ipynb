{
 "cells": [
  {
   "cell_type": "code",
   "execution_count": 4,
   "id": "8d2b9585",
   "metadata": {},
   "outputs": [],
   "source": [
    "import torch\n",
    "import torch.nn as nn\n",
    "import torch.optim as optim\n",
    "import torch.nn.functional as F\n",
    "\n",
    "import numpy as np\n",
    "import random\n",
    "import copy\n",
    "import matplotlib.pyplot as plt\n",
    "\n",
    "from torch.utils.data import Dataset,DataLoader,random_split"
   ]
  },
  {
   "cell_type": "code",
   "execution_count": 2,
   "id": "74b10714",
   "metadata": {},
   "outputs": [],
   "source": [
    "def gram_schmidt_orthogonalization(standard_param, target_param,eps=1e-25):\n",
    "    '''\n",
    "    date: 2021.10.21 -> standard_param, target_param type is only valid for torch \n",
    "    Method: Neural network model parameter orthogonalization using Gram-Schmidt orthogonalization process\n",
    "    input    \n",
    "        standard_param: torch.tensor\n",
    "        target_param: torch.tensor\n",
    "    output\n",
    "        orthogonal_vector = After gram-schmidt process (vector, matrix whatever)\n",
    "    '''\n",
    "    assert isinstance(standard_param,np.ndarray) or torch.is_tensor(standard_param), \\\n",
    "        \"Please, check standard Parameter is {numpy, torch} variable\"\n",
    "    assert isinstance(target_param,np.ndarray) or torch.is_tensor(target_param), \\\n",
    "        \"Please, check target Parameter is {numpy, torch} variable\"\n",
    "    \n",
    "    # matrix --> reshape?\n",
    "    origin_size = target_param.size()\n",
    "    standard_param = standard_param.view(-1,)\n",
    "    target_param = target_param.view(-1,)\n",
    "    \n",
    "    # gram-schmidt orthogonalization and original shapre restoring\n",
    "    proj_t_on_s = torch.dot(standard_param,target_param)/(torch.dot(standard_param,standard_param)+eps)*standard_param\n",
    "    orthogonal_vec = target_param-proj_t_on_s\n",
    "    orthogonal_vec = orthogonal_vec.view([sz for sz in origin_size])\n",
    "    # matrix --> SVD???? later.....\n",
    "    return orthogonal_vec"
   ]
  },
  {
   "cell_type": "markdown",
   "id": "90253f59",
   "metadata": {},
   "source": [
    "### Making sinusoid test list"
   ]
  },
  {
   "cell_type": "code",
   "execution_count": 5,
   "id": "c49fcace",
   "metadata": {},
   "outputs": [],
   "source": [
    "x = np.linspace(-3,3,10000)\n",
    "amp = np.random.uniform(0.1,5,10000)\n",
    "phi = np.random.uniform(0,np.pi,10000)\n",
    "\n",
    "num_task = 100\n",
    "data_list = []\n",
    "for nt in range(num_task):\n",
    "    y = amp[nt]*np.sin(x+phi[nt])\n",
    "    data = np.stack((x,y),axis=1)\n",
    "    data_list.append(data)\n",
    "data_list = np.array(data_list)"
   ]
  },
  {
   "cell_type": "code",
   "execution_count": 6,
   "id": "70febb60",
   "metadata": {},
   "outputs": [
    {
     "name": "stdout",
     "output_type": "stream",
     "text": [
      "(10000, 2)\n"
     ]
    }
   ],
   "source": [
    "print(data_list[0].shape)"
   ]
  },
  {
   "cell_type": "code",
   "execution_count": 8,
   "id": "f880d32f",
   "metadata": {},
   "outputs": [
    {
     "data": {
      "image/png": "[encoded data removed]",
      "text/plain": [
       "<Figure size 720x360 with 1 Axes>"
      ]
     },
     "metadata": {
      "needs_background": "light"
     },
     "output_type": "display_data"
    }
   ],
   "source": [
    "# plotting\n",
    "data = data_list[0]\n",
    "x,y = data[:,0], data[:,1]\n",
    "plt.figure(figsize=(10,5))\n",
    "plt.plot(x,y)\n",
    "plt.grid()"
   ]
  },
  {
   "cell_type": "code",
   "execution_count": 12,
   "id": "44432940",
   "metadata": {},
   "outputs": [
    {
     "name": "stdout",
     "output_type": "stream",
     "text": [
      "cuda:0\n"
     ]
    }
   ],
   "source": [
    "device = torch.device('cuda:0')\n",
    "print(device)\n",
    "#device = torch.device('cpu')"
   ]
  },
  {
   "cell_type": "code",
   "execution_count": 15,
   "id": "394b4e90",
   "metadata": {},
   "outputs": [],
   "source": [
    "class Basic_model(nn.Module):\n",
    "    def __init__(self,num_hidden_layer=3,num_hidden_node=32,input_dim=1,output_dim=1):\n",
    "        super(Basic_model,self).__init__()\n",
    "        self.linears = nn.ModuleList([nn.Linear(input_dim,num_hidden_node)])\n",
    "        self.linears.extend([nn.Linear(num_hidden_node,num_hidden_node) for i in range(num_hidden_layer-1)])\n",
    "        self.linears.append(nn.Linear(num_hidden_node,output_dim))\n",
    "        \n",
    "    def forward(self,x):\n",
    "        for idx, branch in enumerate(self.linears):\n",
    "            if idx != len(self.linears)-1:\n",
    "                x = F.elu(branch(x))\n",
    "            else:\n",
    "                x = branch(x)\n",
    "        return x"
   ]
  },
  {
   "cell_type": "code",
   "execution_count": 37,
   "id": "c19f41d5",
   "metadata": {},
   "outputs": [],
   "source": [
    "class SINUSOID_dataset(Dataset):\n",
    "    def __init__(self,data):\n",
    "        self.x, self.y = data[:,0],data[:,1]\n",
    "        self.x = self.x.reshape(-1,1)\n",
    "        self.y = self.y.reshape(-1,1)\n",
    "        \n",
    "    def __getitem__(self,idx):\n",
    "        return torch.FloatTensor(self.x[idx,:]), torch.FloatTensor(self.y[idx,:])\n",
    "    \n",
    "    def __len__(self):\n",
    "        return len(self.x)"
   ]
  },
  {
   "cell_type": "code",
   "execution_count": 38,
   "id": "4a6f04ee",
   "metadata": {},
   "outputs": [],
   "source": [
    "epochs = 1000\n",
    "batch_size=128\n",
    "learning_rate = 0.01\n",
    "scheduler_step_number=25\n",
    "scheduler_gamma=0.97"
   ]
  },
  {
   "cell_type": "code",
   "execution_count": 39,
   "id": "6f8c2b16",
   "metadata": {},
   "outputs": [
    {
     "name": "stdout",
     "output_type": "stream",
     "text": [
      "Epochs: 0, training loss: 0.19314473755066358, validation loss: 0.031944902846589684, best_valid_loss: 0.031944902846589684\n",
      "Epochs: 100, training loss: 6.258064927856645e-05, validation loss: 9.373641614729422e-05, best_valid_loss: 2.6543126736555678e-06\n",
      "Epochs: 200, training loss: 1.040577275027375e-05, validation loss: 1.2620078621239372e-05, best_valid_loss: 2.6543126736555678e-06\n",
      "Epochs: 300, training loss: 0.00012836705606051035, validation loss: 5.25431159985601e-05, best_valid_loss: 2.6543126736555678e-06\n",
      "Epochs: 400, training loss: 1.707670810627326e-05, validation loss: 1.1518976293700689e-05, best_valid_loss: 2.6543126736555678e-06\n",
      "Epochs: 500, training loss: 6.311846584775061e-05, validation loss: 1.4169519943152409e-05, best_valid_loss: 2.6543126736555678e-06\n",
      "Epochs: 600, training loss: 0.020349632321287774, validation loss: 0.00044216577589395456, best_valid_loss: 2.6543126736555678e-06\n",
      "Epochs: 700, training loss: 4.831768519435418e-05, validation loss: 0.00011900353638338856, best_valid_loss: 2.6543126736555678e-06\n",
      "Epochs: 800, training loss: 2.826046396703099e-05, validation loss: 6.179160254760063e-05, best_valid_loss: 2.6543126736555678e-06\n",
      "Epochs: 900, training loss: 1.402794461884898e-05, validation loss: 8.722960160412185e-06, best_valid_loss: 2.6543126736555678e-06\n"
     ]
    }
   ],
   "source": [
    "data = data_list[0]# \n",
    "criterion = nn.MSELoss()\n",
    "\n",
    "np.random.shuffle(data)\n",
    "train_data = data[:int(len(data)*0.8)]\n",
    "valid_data = data[int(len(data)*0.8):]\n",
    "\n",
    "train_set = SINUSOID_dataset(train_data)\n",
    "valid_set = SINUSOID_dataset(valid_data)\n",
    "train_loader = DataLoader(train_set,batch_size=batch_size,shuffle=True,drop_last=False)\n",
    "valid_loader = DataLoader(valid_set,batch_size=batch_size,shuffle=False,drop_last=False)\n",
    "\n",
    "model = Basic_model().to(device)\n",
    "optimizer = optim.Adam(model.parameters(),lr=learning_rate)\n",
    "scheduler = optim.lr_scheduler.StepLR(optimizer,step_size=(epochs//scheduler_step_number),gamma=scheduler_gamma)\n",
    "\n",
    "best_valid = np.inf\n",
    "for e in range(epochs):\n",
    "    train_loss = 0\n",
    "    model.train()\n",
    "    for x,y in train_loader:\n",
    "        x = x.to(device)\n",
    "        y = y.to(device)\n",
    "        \n",
    "        pred = model(x)\n",
    "        loss = criterion(pred,y)\n",
    "        optimizer.zero_grad()\n",
    "        loss.backward()\n",
    "        optimizer.step()\n",
    "        train_loss += loss.item()\n",
    "        \n",
    "    train_loss /= len(train_loader)\n",
    "    \n",
    "    valid_loss = 0\n",
    "    model.eval()\n",
    "    for x,y in valid_loader:\n",
    "        x = x.to(device)\n",
    "        y = y.to(device)\n",
    "        x.requires_grad=True\n",
    "        \n",
    "        pred = model(x)\n",
    "        loss = criterion(pred,y)\n",
    "        valid_loss += loss.item()\n",
    "    valid_loss /= len(valid_loader)\n",
    "    \n",
    "    if valid_loss < best_valid:\n",
    "        best_valid = valid_loss\n",
    "        best_model = copy.deepcopy(model)\n",
    "    \n",
    "    if e % 100 == 0:\n",
    "        print(f'Epochs: {e}, training loss: {train_loss}, validation loss: {valid_loss}, best_valid_loss: {best_valid}')\n",
    "\n",
    "# score printing      \n",
    "torch.save(best_model,'./best_model.pth')"
   ]
  },
  {
   "cell_type": "code",
   "execution_count": 46,
   "id": "c83ba062",
   "metadata": {},
   "outputs": [
    {
     "name": "stdout",
     "output_type": "stream",
     "text": [
      "(10000, 1)\n"
     ]
    },
    {
     "data": {
      "text/plain": [
       "<matplotlib.legend.Legend at 0x7fcc0c451520>"
      ]
     },
     "execution_count": 46,
     "metadata": {},
     "output_type": "execute_result"
    },
    {
     "data": {
      "image/png": "[encoded data removed]",
      "text/plain": [
       "<Figure size 720x360 with 1 Axes>"
      ]
     },
     "metadata": {
      "needs_background": "light"
     },
     "output_type": "display_data"
    }
   ],
   "source": [
    "x,y = data[:,0],data[:,1]\n",
    "x = np.sort(x)\n",
    "input_x = torch.Tensor(x).to(device).view(-1,1)\n",
    "output_y = best_model(input_x).detach().cpu().numpy()\n",
    "print(output_y.shape)\n",
    "plt.figure(figsize=(10,5))\n",
    "plt.plot(x,y,'k-',label='data')\n",
    "plt.plot(x,output_y,'b-',label='inference')\n",
    "plt.grid()\n",
    "plt.legend()"
   ]
  },
  {
   "cell_type": "code",
   "execution_count": 41,
   "id": "8e31e28d",
   "metadata": {},
   "outputs": [
    {
     "name": "stdout",
     "output_type": "stream",
     "text": [
      "done\n"
     ]
    }
   ],
   "source": [
    "print('done')"
   ]
  },
  {
   "cell_type": "code",
   "execution_count": 42,
   "id": "d351e3ac",
   "metadata": {},
   "outputs": [
    {
     "name": "stdout",
     "output_type": "stream",
     "text": [
      "linears.0.weight tensor(2.5258e-05, device='cuda:0')\n",
      "linears.0.bias tensor(3.6564e-06, device='cuda:0')\n",
      "linears.1.weight tensor(7.6656e-05, device='cuda:0')\n",
      "linears.1.bias tensor(2.8460e-06, device='cuda:0')\n",
      "linears.2.weight tensor(3.9715e-05, device='cuda:0')\n",
      "linears.2.bias tensor(3.1529e-06, device='cuda:0')\n",
      "linears.3.weight tensor(0.0002, device='cuda:0')\n",
      "linears.3.bias tensor(1.6485e-05, device='cuda:0')\n",
      "-------------------------------\n",
      "Max_Key: linears.3.weight\n",
      "Max_Value: 0.00022906571\n",
      "Min_Key: linears.1.bias\n",
      "Min_Value: 2.8460497e-06\n"
     ]
    }
   ],
   "source": [
    "def fisher_information_value(model, criterion, data_loader):\n",
    "    precision_matrices = {}\n",
    "    for n,p in model.named_parameters():\n",
    "        precision_matrices[n] = 0\n",
    "    \n",
    "    model.eval()\n",
    "    for x,y in data_loader:\n",
    "        model.zero_grad()\n",
    "        x = x.to(device)\n",
    "        y = y.to(device)\n",
    "        output = model(x)\n",
    "        loss = criterion(output, y)\n",
    "        loss.backward()\n",
    "        \n",
    "        for n,p in model.named_parameters():\n",
    "            precision_matrices[n] += p.grad.data**2\n",
    "    precision_matrices = {n:p for n,p in precision_matrices.items()}\n",
    "    return precision_matrices\n",
    "\n",
    "fisher_matrix = fisher_information_value(best_model,criterion,valid_loader)\n",
    "#print(fisher_matrix)\n",
    "best_max = 0\n",
    "best_min = np.inf\n",
    "for key,value in fisher_matrix.items():\n",
    "    print(key, value.sum())\n",
    "    if value.sum().detach().cpu().numpy() > best_max:\n",
    "        best_max = value.sum().detach().cpu().numpy()\n",
    "        best_max_name = key\n",
    "    if value.sum().detach().cpu().numpy() < best_min:\n",
    "        best_min = value.sum().detach().cpu().numpy()\n",
    "        best_min_name = key\n",
    "        \n",
    "print('-------------------------------')\n",
    "print('Max_Key:', best_max_name)\n",
    "print('Max_Value:',best_max)\n",
    "print('Min_Key:', best_min_name)\n",
    "print('Min_Value:',best_min)"
   ]
  },
  {
   "cell_type": "code",
   "execution_count": null,
   "id": "c0a1d9f8",
   "metadata": {},
   "outputs": [],
   "source": []
  },
  {
   "cell_type": "markdown",
   "id": "89894f4b",
   "metadata": {},
   "source": [
    "### normal transfer learning"
   ]
  },
  {
   "cell_type": "code",
   "execution_count": 35,
   "id": "2e5c01ec",
   "metadata": {},
   "outputs": [
    {
     "name": "stdout",
     "output_type": "stream",
     "text": [
      "Epochs: 0, training loss: 0.013465704107638596, validation loss: 0.0002861574284906965, best_valid_loss: 0.0002861574284906965\n",
      "Epochs: 100, training loss: 2.0090401882217045e-05, validation loss: 1.6062890779267036e-05, best_valid_loss: 4.22872156491394e-06\n",
      "Epochs: 200, training loss: 0.018025184831039664, validation loss: 0.009686664852779359, best_valid_loss: 4.22872156491394e-06\n",
      "Epochs: 300, training loss: 4.015583455463731e-05, validation loss: 2.6440110218572954e-05, best_valid_loss: 4.22872156491394e-06\n",
      "Epochs: 400, training loss: 0.0006816363851872406, validation loss: 0.0006297509789874312, best_valid_loss: 4.22872156491394e-06\n",
      "Epochs: 500, training loss: 0.0001909632617118029, validation loss: 0.0007387205550912768, best_valid_loss: 4.22872156491394e-06\n",
      "Epochs: 600, training loss: 0.00038855635059354386, validation loss: 0.0012855998502345756, best_valid_loss: 4.22872156491394e-06\n",
      "Epochs: 700, training loss: 0.00013441189410167724, validation loss: 3.242249124468799e-05, best_valid_loss: 4.22872156491394e-06\n",
      "Epochs: 800, training loss: 2.093318884333943e-05, validation loss: 1.0628828022163361e-05, best_valid_loss: 4.22872156491394e-06\n",
      "Epochs: 900, training loss: 1.6187771680484903e-05, validation loss: 2.3828287908145285e-05, best_valid_loss: 4.22872156491394e-06\n"
     ]
    }
   ],
   "source": [
    "data = data_list[2]# \n",
    "criterion = nn.MSELoss()\n",
    "\n",
    "np.random.shuffle(data)\n",
    "train_data = data[:int(len(data)*0.8)]\n",
    "valid_data = data[int(len(data)*0.8):]\n",
    "\n",
    "train_set = SINUSOID_dataset(train_data)\n",
    "valid_set = SINUSOID_dataset(valid_data)\n",
    "train_loader = DataLoader(train_set,batch_size=batch_size,shuffle=True,drop_last=False)\n",
    "valid_loader = DataLoader(valid_set,batch_size=batch_size,shuffle=False,drop_last=False)\n",
    "\n",
    "#model = Basic_model().to(device)\n",
    "model = torch.load('./best_model.pth')\n",
    "optimizer = optim.Adam(model.parameters(),lr=learning_rate)\n",
    "scheduler = optim.lr_scheduler.StepLR(optimizer,step_size=(epochs//scheduler_step_number),gamma=scheduler_gamma)\n",
    "\n",
    "best_valid = np.inf\n",
    "for e in range(epochs):\n",
    "    train_loss = 0\n",
    "    model.train()\n",
    "    for x,y in train_loader:\n",
    "        x = x.to(device)\n",
    "        y = y.to(device)\n",
    "        \n",
    "        pred = model(x)\n",
    "        loss = criterion(pred,y)\n",
    "        optimizer.zero_grad()\n",
    "        loss.backward()\n",
    "        optimizer.step()\n",
    "        train_loss += loss.item()\n",
    "        \n",
    "    train_loss /= len(train_loader)\n",
    "    \n",
    "    valid_loss = 0\n",
    "    model.eval()\n",
    "    for x,y in valid_loader:\n",
    "        x = x.to(device)\n",
    "        y = y.to(device)\n",
    "        x.requires_grad=True\n",
    "        \n",
    "        pred = model(x)\n",
    "        loss = criterion(pred,y)\n",
    "        valid_loss += loss.item()\n",
    "    valid_loss /= len(valid_loader)\n",
    "    \n",
    "    if valid_loss < best_valid:\n",
    "        best_valid = valid_loss\n",
    "        best_model = copy.deepcopy(model)\n",
    "    \n",
    "    if e % 100 == 0:\n",
    "        print(f'Epochs: {e}, training loss: {train_loss}, validation loss: {valid_loss}, best_valid_loss: {best_valid}')\n",
    "\n",
    "# score printing      \n",
    "#torch.save(best_model,'./best_model.pth')"
   ]
  },
  {
   "cell_type": "code",
   "execution_count": 43,
   "id": "b4820de5",
   "metadata": {},
   "outputs": [
    {
     "data": {
      "text/plain": [
       "<matplotlib.legend.Legend at 0x7fcc04070550>"
      ]
     },
     "execution_count": 43,
     "metadata": {},
     "output_type": "execute_result"
    },
    {
     "data": {
      "image/png": "[encoded data removed]",
      "text/plain": [
       "<Figure size 720x360 with 1 Axes>"
      ]
     },
     "metadata": {
      "needs_background": "light"
     },
     "output_type": "display_data"
    }
   ],
   "source": [
    "x,y = data[:,0],data[:,1]\n",
    "x = np.sort(x)\n",
    "input_x = torch.Tensor(x).to(device).view(-1,1)\n",
    "output_y = best_model(input_x).detach().cpu().numpy()\n",
    "plt.figure(figsize=(10,5))\n",
    "plt.plot(x,y,'k-',label='data')\n",
    "plt.plot(x,output_y,'b-',label='inference')\n",
    "plt.grid()\n",
    "plt.legend()"
   ]
  },
  {
   "cell_type": "markdown",
   "id": "a9c2e03b",
   "metadata": {},
   "source": [
    "### Fisher information - Gram_Schimidt orthogonalization"
   ]
  },
  {
   "cell_type": "code",
   "execution_count": 44,
   "id": "f6ddd7e7",
   "metadata": {},
   "outputs": [
    {
     "name": "stdout",
     "output_type": "stream",
     "text": [
      "linears.0.weight tensor(20.0654, device='cuda:0')\n",
      "linears.0.bias tensor(5.6429, device='cuda:0')\n",
      "linears.1.weight tensor(74.7407, device='cuda:0')\n",
      "linears.1.bias tensor(2.3331, device='cuda:0')\n",
      "linears.2.weight tensor(78.0707, device='cuda:0')\n",
      "linears.2.bias tensor(1.0329, device='cuda:0')\n",
      "linears.3.weight tensor(529.3300, device='cuda:0')\n",
      "linears.3.bias tensor(0.7100, device='cuda:0')\n",
      "-------------------------------\n",
      "Max_Key: linears.3.weight\n",
      "Max_Value: 529.32996\n",
      "Min_Key: linears.3.bias\n",
      "Min_Value: 0.7099639\n",
      "Epochs: 0, training loss: 0.5777217785620855, validation loss: 0.005732902005547658, best_valid_loss: 0.005732902005547658\n",
      "Epochs: 100, training loss: 0.00015543648947237266, validation loss: 0.0007614494934387039, best_valid_loss: 1.476143057743684e-05\n",
      "Epochs: 200, training loss: 3.775043513174058e-05, validation loss: 0.0005425445251603378, best_valid_loss: 6.864553114382943e-06\n",
      "Epochs: 300, training loss: 9.440384888471777e-05, validation loss: 9.175082686851965e-05, best_valid_loss: 6.864553114382943e-06\n",
      "Epochs: 400, training loss: 0.00016286685103483568, validation loss: 9.858810335572343e-05, best_valid_loss: 6.864553114382943e-06\n",
      "Epochs: 500, training loss: 0.0003402790963942636, validation loss: 7.202160600172647e-05, best_valid_loss: 6.864553114382943e-06\n",
      "Epochs: 600, training loss: 3.2868748724193584e-05, validation loss: 1.7391715402936825e-05, best_valid_loss: 6.864553114382943e-06\n",
      "Epochs: 700, training loss: 4.2180043223313064e-05, validation loss: 7.776872735121287e-05, best_valid_loss: 6.864553114382943e-06\n",
      "Epochs: 800, training loss: 5.6472669380055444e-05, validation loss: 9.332334866485326e-05, best_valid_loss: 6.864553114382943e-06\n",
      "Epochs: 900, training loss: 3.7255443824087414e-05, validation loss: 8.979950007415027e-05, best_valid_loss: 6.864553114382943e-06\n"
     ]
    }
   ],
   "source": [
    "data = data_list[2]# \n",
    "criterion = nn.MSELoss()\n",
    "\n",
    "np.random.shuffle(data)\n",
    "train_data = data[:int(len(data)*0.8)]\n",
    "valid_data = data[int(len(data)*0.8):]\n",
    "\n",
    "train_set = SINUSOID_dataset(train_data)\n",
    "valid_set = SINUSOID_dataset(valid_data)\n",
    "train_loader = DataLoader(train_set,batch_size=batch_size,shuffle=True,drop_last=False)\n",
    "valid_loader = DataLoader(valid_set,batch_size=batch_size,shuffle=False,drop_last=False)\n",
    "\n",
    "#model = Basic_model().to(device)\n",
    "model = torch.load('./best_model.pth')\n",
    "optimizer = optim.Adam(model.parameters(),lr=learning_rate)\n",
    "scheduler = optim.lr_scheduler.StepLR(optimizer,step_size=(epochs//scheduler_step_number),gamma=scheduler_gamma)\n",
    "\n",
    "fisher_matrix = fisher_information_value(model,criterion,train_loader)\n",
    "#print(fisher_matrix)\n",
    "best_max = 0\n",
    "best_min = np.inf\n",
    "for key,value in fisher_matrix.items():\n",
    "    print(key, value.sum())\n",
    "    if value.sum().detach().cpu().numpy() > best_max:\n",
    "        best_max = value.sum().detach().cpu().numpy()\n",
    "        best_max_name = key\n",
    "    if value.sum().detach().cpu().numpy() < best_min:\n",
    "        best_min = value.sum().detach().cpu().numpy()\n",
    "        best_min_name = key\n",
    "        \n",
    "print('-------------------------------')\n",
    "print('Max_Key:', best_max_name)\n",
    "print('Max_Value:',best_max)\n",
    "print('Min_Key:', best_min_name)\n",
    "print('Min_Value:',best_min)\n",
    "\n",
    "for name,parameter in model.named_parameters():\n",
    "    best_layer = best_max_name.split('.')[1]\n",
    "    layer_number = name.split('.')[1]\n",
    "    #if layer_number != best_layer:\n",
    "    if layer_number == best_min_name.split('.')[1]:\n",
    "        parameter.data.copy_(gram_schmidt_orthogonalization(parameter,torch.randn(parameter.size())\\\n",
    "                                                            .to(parameter.device)))\n",
    "\n",
    "best_valid = np.inf\n",
    "for e in range(epochs):\n",
    "    train_loss = 0\n",
    "    model.train()\n",
    "    for x,y in train_loader:\n",
    "        x = x.to(device)\n",
    "        y = y.to(device)\n",
    "        \n",
    "        pred = model(x)\n",
    "        loss = criterion(pred,y)\n",
    "        optimizer.zero_grad()\n",
    "        loss.backward()\n",
    "        optimizer.step()\n",
    "        train_loss += loss.item()\n",
    "        \n",
    "    train_loss /= len(train_loader)\n",
    "    \n",
    "    valid_loss = 0\n",
    "    model.eval()\n",
    "    for x,y in valid_loader:\n",
    "        x = x.to(device)\n",
    "        y = y.to(device)\n",
    "        x.requires_grad=True\n",
    "        \n",
    "        pred = model(x)\n",
    "        loss = criterion(pred,y)\n",
    "        valid_loss += loss.item()\n",
    "    valid_loss /= len(valid_loader)\n",
    "    \n",
    "    if valid_loss < best_valid:\n",
    "        best_valid = valid_loss\n",
    "        best_model = copy.deepcopy(model)\n",
    "    \n",
    "    if e % 100 == 0:\n",
    "        print(f'Epochs: {e}, training loss: {train_loss}, validation loss: {valid_loss}, best_valid_loss: {best_valid}')\n",
    "\n",
    "# score printing      \n",
    "#torch.save(best_model,'./best_model.pth')"
   ]
  },
  {
   "cell_type": "code",
   "execution_count": 45,
   "id": "26839f22",
   "metadata": {},
   "outputs": [
    {
     "data": {
      "text/plain": [
       "<matplotlib.legend.Legend at 0x7fcc0c3dc100>"
      ]
     },
     "execution_count": 45,
     "metadata": {},
     "output_type": "execute_result"
    },
    {
     "data": {
      "image/png": "[encoded data removed]",
      "text/plain": [
       "<Figure size 720x360 with 1 Axes>"
      ]
     },
     "metadata": {
      "needs_background": "light"
     },
     "output_type": "display_data"
    }
   ],
   "source": [
    "x,y = data[:,0],data[:,1]\n",
    "x = np.sort(x)\n",
    "input_x = torch.Tensor(x).to(device).view(-1,1)\n",
    "output_y = best_model(input_x).detach().cpu().numpy()\n",
    "plt.figure(figsize=(10,5))\n",
    "plt.plot(x,y,'k-',label='data')\n",
    "plt.plot(x,output_y,'b-',label='inference')\n",
    "plt.grid()\n",
    "plt.legend()"
   ]
  },
  {
   "cell_type": "code",
   "execution_count": null,
   "id": "fd5b98a1",
   "metadata": {},
   "outputs": [],
   "source": []
  },
  {
   "cell_type": "code",
   "execution_count": null,
   "id": "49b2d8f0",
   "metadata": {},
   "outputs": [],
   "source": []
  },
  {
   "cell_type": "code",
   "execution_count": null,
   "id": "3f6e3d6e",
   "metadata": {},
   "outputs": [],
   "source": []
  },
  {
   "cell_type": "code",
   "execution_count": null,
   "id": "f861828a",
   "metadata": {},
   "outputs": [],
   "source": []
  },
  {
   "cell_type": "code",
   "execution_count": null,
   "id": "94442a5b",
   "metadata": {},
   "outputs": [],
   "source": []
  },
  {
   "cell_type": "code",
   "execution_count": null,
   "id": "280327bb",
   "metadata": {},
   "outputs": [],
   "source": []
  }
 ],
 "metadata": {
  "kernelspec": {
   "display_name": "Python 3",
   "language": "python",
   "name": "python3"
  },
  "language_info": {
   "codemirror_mode": {
    "name": "ipython",
    "version": 3
   },
   "file_extension": ".py",
   "mimetype": "text/x-python",
   "name": "python",
   "nbconvert_exporter": "python",
   "pygments_lexer": "ipython3",
   "version": "3.8.10"
  }
 },
 "nbformat": 4,
 "nbformat_minor": 5
}
