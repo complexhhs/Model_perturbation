{
 "cells": [
  {
   "cell_type": "code",
   "execution_count": 1,
   "id": "8d2b9585",
   "metadata": {},
   "outputs": [],
   "source": [
    "import torch\n",
    "import torch.nn as nn\n",
    "import torch.optim as optim\n",
    "import torch.nn.functional as F\n",
    "\n",
    "import numpy as np\n",
    "import random\n",
    "import copy\n",
    "import matplotlib.pyplot as plt\n",
    "\n",
    "from torch.utils.data import Dataset,DataLoader,random_split"
   ]
  },
  {
   "cell_type": "code",
   "execution_count": 2,
   "id": "74b10714",
   "metadata": {},
   "outputs": [],
   "source": [
    "def gram_schmidt_orthogonalization(standard_param, target_param,eps=1e-25):\n",
    "    '''\n",
    "    date: 2021.10.21 -> standard_param, target_param type is only valid for torch \n",
    "    Method: Neural network model parameter orthogonalization using Gram-Schmidt orthogonalization process\n",
    "    input    \n",
    "        standard_param: torch.tensor\n",
    "        target_param: torch.tensor\n",
    "    output\n",
    "        orthogonal_vector = After gram-schmidt process (vector, matrix whatever)\n",
    "    '''\n",
    "    assert isinstance(standard_param,np.ndarray) or torch.is_tensor(standard_param), \\\n",
    "        \"Please, check standard Parameter is {numpy, torch} variable\"\n",
    "    assert isinstance(target_param,np.ndarray) or torch.is_tensor(target_param), \\\n",
    "        \"Please, check target Parameter is {numpy, torch} variable\"\n",
    "    \n",
    "    # matrix --> reshape?\n",
    "    origin_size = target_param.size()\n",
    "    standard_param = standard_param.view(-1,)\n",
    "    target_param = target_param.view(-1,)\n",
    "    \n",
    "    # gram-schmidt orthogonalization and original shapre restoring\n",
    "    proj_t_on_s = torch.dot(standard_param,target_param)/(torch.dot(standard_param,standard_param)+eps)*standard_param\n",
    "    orthogonal_vec = target_param-proj_t_on_s\n",
    "    orthogonal_vec = orthogonal_vec.view([sz for sz in origin_size])\n",
    "    # matrix --> SVD???? later.....\n",
    "    return orthogonal_vec"
   ]
  },
  {
   "cell_type": "markdown",
   "id": "49fd47d0",
   "metadata": {},
   "source": [
    "### Making sinusoid test list"
   ]
  },
  {
   "cell_type": "code",
   "execution_count": 3,
   "id": "c49fcace",
   "metadata": {},
   "outputs": [],
   "source": [
    "x = np.linspace(-3,3,10000)\n",
    "amp = np.random.uniform(0.1,5,10000)\n",
    "phi = np.random.uniform(0,np.pi,10000)\n",
    "\n",
    "num_task = 100\n",
    "data_list = []\n",
    "for nt in range(num_task):\n",
    "    y = amp[nt]*np.sin(x+phi[nt])\n",
    "    data = np.stack((x,y),axis=1)\n",
    "    data_list.append(data)\n",
    "data_list = np.array(data_list)"
   ]
  },
  {
   "cell_type": "code",
   "execution_count": 4,
   "id": "fe22f98c",
   "metadata": {},
   "outputs": [
    {
     "name": "stdout",
     "output_type": "stream",
     "text": [
      "(10000, 2)\n"
     ]
    }
   ],
   "source": [
    "print(data_list[0].shape)"
   ]
  },
  {
   "cell_type": "code",
   "execution_count": 5,
   "id": "55828a9f",
   "metadata": {},
   "outputs": [
    {
     "data": {
      "image/png": "[encoded data removed]",
      "text/plain": [
       "<Figure size 720x360 with 1 Axes>"
      ]
     },
     "metadata": {
      "needs_background": "light"
     },
     "output_type": "display_data"
    }
   ],
   "source": [
    "# plotting\n",
    "data = data_list[0]\n",
    "x,y = data[:,0], data[:,1]\n",
    "plt.figure(figsize=(10,5))\n",
    "plt.plot(x,y)\n",
    "plt.grid()"
   ]
  },
  {
   "cell_type": "code",
   "execution_count": 38,
   "id": "44432940",
   "metadata": {},
   "outputs": [
    {
     "name": "stdout",
     "output_type": "stream",
     "text": [
      "cuda:0\n"
     ]
    }
   ],
   "source": [
    "device = torch.device('cuda:0')\n",
    "print(device)\n",
    "#device = torch.device('cpu')"
   ]
  },
  {
   "cell_type": "code",
   "execution_count": 70,
   "id": "394b4e90",
   "metadata": {},
   "outputs": [],
   "source": [
    "class Basic_model(nn.Module):\n",
    "    def __init__(self,num_hidden_layer=3,num_hidden_node=32,input_dim=1,output_dim=1):\n",
    "        super(Basic_model,self).__init__()\n",
    "        self.linears = nn.ModuleList([nn.Linear(input_dim,num_hidden_node)])\n",
    "        self.linears.extend([nn.Linear(num_hidden_node,num_hidden_node) for i in range(num_hidden_layer-1)])\n",
    "        self.linears.append(nn.Linear(num_hidden_node,output_dim))\n",
    "        \n",
    "    def forward(self,x):\n",
    "        for idx, branch in enumerate(self.linears):\n",
    "            if idx != len(self.linears)-1:\n",
    "                x = F.elu(branch(x))\n",
    "            else:\n",
    "                x = branch(x)\n",
    "        return x"
   ]
  },
  {
   "cell_type": "code",
   "execution_count": 71,
   "id": "c19f41d5",
   "metadata": {},
   "outputs": [],
   "source": [
    "class SINUSOID_dataset(Dataset):\n",
    "    def __init__(self,data):\n",
    "        self.x, self.y = data[:,0],data[:,1]\n",
    "        self.x = self.x.reshape(-1,1)\n",
    "        self.y = self.y.reshape(-1,1)\n",
    "        \n",
    "    def __getitem__(self,idx):\n",
    "        return torch.FloatTensor(self.x[idx,:]), torch.FloatTensor(self.y[idx,:])\n",
    "    \n",
    "    def __len__(self):\n",
    "        return len(self.x)"
   ]
  },
  {
   "cell_type": "code",
   "execution_count": 72,
   "id": "b43b64cb",
   "metadata": {},
   "outputs": [],
   "source": [
    "epochs = 1000\n",
    "batch_size=128\n",
    "learning_rate = 0.01\n",
    "scheduler_step_number=25\n",
    "scheduler_gamma=0.97"
   ]
  },
  {
   "cell_type": "code",
   "execution_count": 73,
   "id": "6f8c2b16",
   "metadata": {},
   "outputs": [
    {
     "name": "stdout",
     "output_type": "stream",
     "text": [
      "Epochs: 0, training loss: 0.1658910859712503, validation loss: 0.0024531671951990575, best_valid_loss: 0.0024531671951990575\n",
      "Epochs: 100, training loss: 1.2453715307567599e-05, validation loss: 2.1621357518597506e-05, best_valid_loss: 1.4800860412833572e-06\n",
      "Epochs: 200, training loss: 8.539448310965248e-05, validation loss: 9.580422738508787e-05, best_valid_loss: 1.4800860412833572e-06\n",
      "Epochs: 300, training loss: 0.00010095463282292864, validation loss: 0.00011282316700089723, best_valid_loss: 1.4800860412833572e-06\n",
      "Epochs: 400, training loss: 1.0377493427291656e-05, validation loss: 1.5715711015218403e-05, best_valid_loss: 1.4800860412833572e-06\n",
      "Epochs: 500, training loss: 5.1049047475057053e-05, validation loss: 1.412092973396284e-05, best_valid_loss: 1.4800860412833572e-06\n",
      "Epochs: 600, training loss: 0.00014378360667670055, validation loss: 8.058856246861978e-05, best_valid_loss: 1.4800860412833572e-06\n",
      "Epochs: 700, training loss: 7.082301854169932e-06, validation loss: 5.071847408544272e-05, best_valid_loss: 1.4800860412833572e-06\n",
      "Epochs: 800, training loss: 9.339256403397903e-05, validation loss: 5.692301829185453e-05, best_valid_loss: 1.4800860412833572e-06\n",
      "Epochs: 900, training loss: 0.004910969793580455, validation loss: 0.040119341341778636, best_valid_loss: 1.4800860412833572e-06\n"
     ]
    }
   ],
   "source": [
    "data = data_list[0]# \n",
    "criterion = nn.MSELoss()\n",
    "backup_data = copy.deepcopy(data)\n",
    "np.random.shuffle(data)\n",
    "train_data = data[:int(len(data)*0.8)]\n",
    "valid_data = data[int(len(data)*0.8):]\n",
    "\n",
    "train_set = SINUSOID_dataset(train_data)\n",
    "valid_set = SINUSOID_dataset(valid_data)\n",
    "train_loader = DataLoader(train_set,batch_size=batch_size,shuffle=True,drop_last=False)\n",
    "valid_loader = DataLoader(valid_set,batch_size=batch_size,shuffle=False,drop_last=False)\n",
    "\n",
    "model = Basic_model().to(device)\n",
    "optimizer = optim.Adam(model.parameters(),lr=learning_rate)\n",
    "scheduler = optim.lr_scheduler.StepLR(optimizer,step_size=(epochs//scheduler_step_number),gamma=scheduler_gamma)\n",
    "\n",
    "best_valid = np.inf\n",
    "for e in range(epochs):\n",
    "    train_loss = 0\n",
    "    model.train()\n",
    "    for x,y in train_loader:\n",
    "        x = x.to(device)\n",
    "        y = y.to(device)\n",
    "        \n",
    "        pred = model(x)\n",
    "        loss = criterion(pred,y)\n",
    "        optimizer.zero_grad()\n",
    "        loss.backward()\n",
    "        optimizer.step()\n",
    "        train_loss += loss.item()\n",
    "        \n",
    "    train_loss /= len(train_loader)\n",
    "    \n",
    "    valid_loss = 0\n",
    "    model.eval()\n",
    "    for x,y in valid_loader:\n",
    "        x = x.to(device)\n",
    "        y = y.to(device)\n",
    "        x.requires_grad=True\n",
    "        \n",
    "        pred = model(x)\n",
    "        loss = criterion(pred,y)\n",
    "        valid_loss += loss.item()\n",
    "    valid_loss /= len(valid_loader)\n",
    "    \n",
    "    if valid_loss < best_valid:\n",
    "        best_valid = valid_loss\n",
    "        best_model = copy.deepcopy(model)\n",
    "    \n",
    "    if e % 100 == 0:\n",
    "        print(f'Epochs: {e}, training loss: {train_loss}, validation loss: {valid_loss}, best_valid_loss: {best_valid}')\n",
    "\n",
    "# score printing\n",
    "torch.save(best_model,'./best_model.pth')"
   ]
  },
  {
   "cell_type": "code",
   "execution_count": 74,
   "id": "bb9854fb",
   "metadata": {},
   "outputs": [
    {
     "data": {
      "text/plain": [
       "<matplotlib.legend.Legend at 0x7fd89de747f0>"
      ]
     },
     "execution_count": 74,
     "metadata": {},
     "output_type": "execute_result"
    },
    {
     "data": {
      "image/png": "[encoded data removed]",
      "text/plain": [
       "<Figure size 720x360 with 1 Axes>"
      ]
     },
     "metadata": {
      "needs_background": "light"
     },
     "output_type": "display_data"
    }
   ],
   "source": [
    "plt.figure(figsize=(10,5))\n",
    "x,y = backup_data[:,0],backup_data[:,1]\n",
    "plt.plot(x,y,'ko',label='data',markersize=1.5)\n",
    "x = np.sort(x)\n",
    "input_x = torch.Tensor(x).to(device).view(-1,1)\n",
    "output_y = best_model(input_x).detach().cpu().numpy()\n",
    "plt.plot(x,output_y,'b-',label='inference')\n",
    "plt.grid()\n",
    "plt.legend()"
   ]
  },
  {
   "cell_type": "code",
   "execution_count": 75,
   "id": "8e31e28d",
   "metadata": {},
   "outputs": [
    {
     "name": "stdout",
     "output_type": "stream",
     "text": [
      "done\n"
     ]
    }
   ],
   "source": [
    "print('done')"
   ]
  },
  {
   "cell_type": "code",
   "execution_count": 45,
   "id": "d351e3ac",
   "metadata": {},
   "outputs": [
    {
     "name": "stdout",
     "output_type": "stream",
     "text": [
      "linears.0.weight tensor(3.0746e-05, device='cuda:0')\n",
      "linears.0.bias tensor(7.9053e-06, device='cuda:0')\n",
      "linears.1.weight tensor(1.3146e-05, device='cuda:0')\n",
      "linears.1.bias tensor(1.2233e-06, device='cuda:0')\n",
      "linears.2.weight tensor(4.1553e-05, device='cuda:0')\n",
      "linears.2.bias tensor(1.6752e-06, device='cuda:0')\n",
      "linears.3.weight tensor(0.0008, device='cuda:0')\n",
      "linears.3.bias tensor(1.0799e-05, device='cuda:0')\n",
      "-------------------------------\n",
      "Max_Key: linears.3.weight\n",
      "Max_Value: 0.00076972356\n",
      "Min_Key: linears.1.bias\n",
      "Min_Value: 1.2232556e-06\n"
     ]
    }
   ],
   "source": [
    "def fisher_information_value(model, criterion, data_loader):\n",
    "    precision_matrices = {}\n",
    "    for n,p in model.named_parameters():\n",
    "        precision_matrices[n] = 0\n",
    "    \n",
    "    model.eval()\n",
    "    for x,y in data_loader:\n",
    "        model.zero_grad()\n",
    "        x = x.to(device)\n",
    "        y = y.to(device)\n",
    "        output = model(x)\n",
    "        loss = criterion(output, y)\n",
    "        loss.backward()\n",
    "        \n",
    "        for n,p in model.named_parameters():\n",
    "            precision_matrices[n] += p.grad.data**2\n",
    "    precision_matrices = {n:p for n,p in precision_matrices.items()}\n",
    "    return precision_matrices\n",
    "\n",
    "fisher_matrix = fisher_information_value(best_model,criterion,valid_loader)\n",
    "#print(fisher_matrix)\n",
    "best_max = 0\n",
    "best_min = np.inf\n",
    "for key,value in fisher_matrix.items():\n",
    "    print(key, value.sum())\n",
    "    if value.sum().detach().cpu().numpy() > best_max:\n",
    "        best_max = value.sum().detach().cpu().numpy()\n",
    "        best_max_name = key\n",
    "    if value.sum().detach().cpu().numpy() < best_min:\n",
    "        best_min = value.sum().detach().cpu().numpy()\n",
    "        best_min_name = key\n",
    "        \n",
    "print('-------------------------------')\n",
    "print('Max_Key:', best_max_name)\n",
    "print('Max_Value:',best_max)\n",
    "print('Min_Key:', best_min_name)\n",
    "print('Min_Value:',best_min)"
   ]
  },
  {
   "cell_type": "markdown",
   "id": "7d10b3c8",
   "metadata": {},
   "source": [
    "### Transfer learning dataset preparation"
   ]
  },
  {
   "cell_type": "code",
   "execution_count": 76,
   "id": "e8b79e34",
   "metadata": {},
   "outputs": [],
   "source": [
    "data = data_list[2]# \n",
    "backup_data = copy.deepcopy(data)\n",
    "np.random.shuffle(data)\n",
    "train_data = data[:int(len(data)*0.8)]\n",
    "valid_data = data[int(len(data)*0.8):]\n",
    "\n",
    "train_set = SINUSOID_dataset(train_data)\n",
    "valid_set = SINUSOID_dataset(valid_data)\n",
    "train_loader = DataLoader(train_set,batch_size=batch_size,shuffle=True,drop_last=False)\n",
    "valid_loader = DataLoader(valid_set,batch_size=batch_size,shuffle=False,drop_last=False)"
   ]
  },
  {
   "cell_type": "markdown",
   "id": "59ebef55",
   "metadata": {},
   "source": [
    "### normal transfer learning"
   ]
  },
  {
   "cell_type": "code",
   "execution_count": 77,
   "id": "2e5c01ec",
   "metadata": {},
   "outputs": [
    {
     "name": "stdout",
     "output_type": "stream",
     "text": [
      "Epochs: 0, training loss: 0.10894869162981945, validation loss: 0.005553580180276185, best_valid_loss: 0.005553580180276185\n",
      "Epochs: 100, training loss: 0.00015647016357794952, validation loss: 0.0001419677369085548, best_valid_loss: 2.2942430973671435e-05\n",
      "Epochs: 200, training loss: 0.00010832675157178615, validation loss: 0.00030115099252725486, best_valid_loss: 1.0766021091512812e-05\n",
      "Epochs: 300, training loss: 1.8835018766237355e-05, validation loss: 1.491417691568131e-05, best_valid_loss: 6.494908802778809e-06\n",
      "Epochs: 400, training loss: 4.127379499896917e-05, validation loss: 5.437006939246203e-05, best_valid_loss: 6.494908802778809e-06\n",
      "Epochs: 500, training loss: 1.1935933163465327e-05, validation loss: 3.7630136660027347e-06, best_valid_loss: 3.7630136660027347e-06\n",
      "Epochs: 600, training loss: 9.232598347894272e-06, validation loss: 5.299089565369286e-06, best_valid_loss: 3.7630136660027347e-06\n",
      "Epochs: 700, training loss: 0.0001453836346858196, validation loss: 9.935924981618882e-05, best_valid_loss: 3.7630136660027347e-06\n",
      "Epochs: 800, training loss: 0.0002543942777958277, validation loss: 0.00014031661248736782, best_valid_loss: 3.7630136660027347e-06\n",
      "Epochs: 900, training loss: 0.00014739166784686006, validation loss: 0.0009034109825734049, best_valid_loss: 3.7630136660027347e-06\n"
     ]
    }
   ],
   "source": [
    "criterion = nn.MSELoss()\n",
    "\n",
    "#model = Basic_model().to(device)\n",
    "model = torch.load('./best_model.pth')\n",
    "optimizer = optim.Adam(model.parameters(),lr=learning_rate)\n",
    "scheduler = optim.lr_scheduler.StepLR(optimizer,step_size=(epochs//scheduler_step_number),gamma=scheduler_gamma)\n",
    "\n",
    "best_valid = np.inf\n",
    "for e in range(epochs):\n",
    "    train_loss = 0\n",
    "    model.train()\n",
    "    for x,y in train_loader:\n",
    "        x = x.to(device)\n",
    "        y = y.to(device)\n",
    "        \n",
    "        pred = model(x)\n",
    "        loss = criterion(pred,y)\n",
    "        optimizer.zero_grad()\n",
    "        loss.backward()\n",
    "        optimizer.step()\n",
    "        train_loss += loss.item()\n",
    "        \n",
    "    train_loss /= len(train_loader)\n",
    "    \n",
    "    valid_loss = 0\n",
    "    model.eval()\n",
    "    for x,y in valid_loader:\n",
    "        x = x.to(device)\n",
    "        y = y.to(device)\n",
    "        x.requires_grad=True\n",
    "        \n",
    "        pred = model(x)\n",
    "        loss = criterion(pred,y)\n",
    "        valid_loss += loss.item()\n",
    "    valid_loss /= len(valid_loader)\n",
    "    \n",
    "    if valid_loss < best_valid:\n",
    "        best_valid = valid_loss\n",
    "        best_model = copy.deepcopy(model)\n",
    "    \n",
    "    if e % 100 == 0:\n",
    "        print(f'Epochs: {e}, training loss: {train_loss}, validation loss: {valid_loss}, best_valid_loss: {best_valid}')\n",
    "\n",
    "# score printing      \n",
    "#torch.save(best_model,'./best_model.pth')"
   ]
  },
  {
   "cell_type": "code",
   "execution_count": 78,
   "id": "b3c1819a",
   "metadata": {},
   "outputs": [
    {
     "data": {
      "text/plain": [
       "<matplotlib.legend.Legend at 0x7fd89de0a9a0>"
      ]
     },
     "execution_count": 78,
     "metadata": {},
     "output_type": "execute_result"
    },
    {
     "data": {
      "image/png": "[encoded data removed]",
      "text/plain": [
       "<Figure size 720x360 with 1 Axes>"
      ]
     },
     "metadata": {
      "needs_background": "light"
     },
     "output_type": "display_data"
    }
   ],
   "source": [
    "plt.figure(figsize=(10,5))\n",
    "x,y = backup_data[:,0],backup_data[:,1]\n",
    "plt.plot(x,y,'ko',label='data',markersize=1.5)\n",
    "x = np.sort(x)\n",
    "input_x = torch.Tensor(x).to(device).view(-1,1)\n",
    "output_y = best_model(input_x).detach().cpu().numpy()\n",
    "plt.plot(x,output_y,'b-',label='inference')\n",
    "plt.grid()\n",
    "plt.legend()"
   ]
  },
  {
   "cell_type": "markdown",
   "id": "c9243e0d",
   "metadata": {},
   "source": [
    "### Fisher information - Gram_Schimidt orthogonalization"
   ]
  },
  {
   "cell_type": "code",
   "execution_count": 81,
   "id": "f6ddd7e7",
   "metadata": {},
   "outputs": [
    {
     "name": "stdout",
     "output_type": "stream",
     "text": [
      "linears.0.weight tensor(394.2129, device='cuda:0')\n",
      "linears.0.bias tensor(85.6049, device='cuda:0')\n",
      "linears.1.weight tensor(1043.7024, device='cuda:0')\n",
      "linears.1.bias tensor(6.3864, device='cuda:0')\n",
      "linears.2.weight tensor(263.4596, device='cuda:0')\n",
      "linears.2.bias tensor(2.0065, device='cuda:0')\n",
      "linears.3.weight tensor(644.2292, device='cuda:0')\n",
      "linears.3.bias tensor(3.7767, device='cuda:0')\n",
      "-------------------------------\n",
      "Max_Key: linears.1.weight\n",
      "Max_Value: 1043.7024\n",
      "Min_Key: linears.2.bias\n",
      "Min_Value: 2.0065022\n",
      "Epochs: 0, training loss: 0.39841619989879073, validation loss: 0.012038019543979317, best_valid_loss: 0.012038019543979317\n",
      "Epochs: 100, training loss: 0.0002397324313365278, validation loss: 0.0002025693402174511, best_valid_loss: 1.6054589309533185e-05\n",
      "Epochs: 200, training loss: 1.2144052576216397e-05, validation loss: 3.691631195579248e-05, best_valid_loss: 7.639266499381847e-06\n",
      "Epochs: 300, training loss: 2.5608407596005165e-05, validation loss: 2.1341797037166543e-05, best_valid_loss: 5.883980463750049e-06\n",
      "Epochs: 400, training loss: 2.2722194270976442e-05, validation loss: 3.598756609335396e-05, best_valid_loss: 5.4170280918697244e-06\n",
      "Epochs: 500, training loss: 1.1092876768146646e-05, validation loss: 5.237158262616504e-06, best_valid_loss: 4.150453392526288e-06\n",
      "Epochs: 600, training loss: 0.0019698664465168905, validation loss: 0.0003042491625819821, best_valid_loss: 4.150453392526288e-06\n",
      "Epochs: 700, training loss: 0.0004521079586877946, validation loss: 0.0020146616443526, best_valid_loss: 4.150453392526288e-06\n",
      "Epochs: 800, training loss: 0.0006828092473225542, validation loss: 0.00016899621823540656, best_valid_loss: 4.150453392526288e-06\n",
      "Epochs: 900, training loss: 9.252404699134151e-06, validation loss: 3.5069048180957907e-06, best_valid_loss: 3.5069048180957907e-06\n"
     ]
    }
   ],
   "source": [
    "data = data_list[2]# \n",
    "criterion = nn.MSELoss()\n",
    "backup_data = copy.deepcopy(backup_data)\n",
    "\n",
    "np.random.shuffle(data)\n",
    "train_data = data[:int(len(data)*0.8)]\n",
    "valid_data = data[int(len(data)*0.8):]\n",
    "\n",
    "train_set = SINUSOID_dataset(train_data)\n",
    "valid_set = SINUSOID_dataset(valid_data)\n",
    "train_loader = DataLoader(train_set,batch_size=batch_size,shuffle=True,drop_last=False)\n",
    "valid_loader = DataLoader(valid_set,batch_size=batch_size,shuffle=False,drop_last=False)\n",
    "\n",
    "#model = Basic_model().to(device)\n",
    "model = torch.load('./best_model.pth')\n",
    "optimizer = optim.Adam(model.parameters(),lr=learning_rate)\n",
    "scheduler = optim.lr_scheduler.StepLR(optimizer,step_size=(epochs//scheduler_step_number),gamma=scheduler_gamma)\n",
    "\n",
    "fisher_matrix = fisher_information_value(model,criterion,train_loader)\n",
    "#print(fisher_matrix)\n",
    "best_max = 0\n",
    "best_min = np.inf\n",
    "for key,value in fisher_matrix.items():\n",
    "    print(key, value.sum())\n",
    "    if value.sum().detach().cpu().numpy() > best_max:\n",
    "        best_max = value.sum().detach().cpu().numpy()\n",
    "        best_max_name = key\n",
    "    if value.sum().detach().cpu().numpy() < best_min:\n",
    "        best_min = value.sum().detach().cpu().numpy()\n",
    "        best_min_name = key\n",
    "        \n",
    "print('-------------------------------')\n",
    "print('Max_Key:', best_max_name)\n",
    "print('Max_Value:',best_max)\n",
    "print('Min_Key:', best_min_name)\n",
    "print('Min_Value:',best_min)\n",
    "\n",
    "for name,parameter in model.named_parameters():\n",
    "    best_layer = best_max_name.split('.')[1]\n",
    "    layer_number = name.split('.')[1]\n",
    "    #if layer_number != best_layer:\n",
    "    if layer_number == best_min_name.split('.')[1]:\n",
    "        parameter.data.copy_(gram_schmidt_orthogonalization(parameter,torch.randn(parameter.size())\\\n",
    "                                                            .to(parameter.device)))\n",
    "\n",
    "best_valid = np.inf\n",
    "for e in range(epochs):\n",
    "    train_loss = 0\n",
    "    model.train()\n",
    "    for x,y in train_loader:\n",
    "        x = x.to(device)\n",
    "        y = y.to(device)\n",
    "        \n",
    "        pred = model(x)\n",
    "        loss = criterion(pred,y)\n",
    "        optimizer.zero_grad()\n",
    "        loss.backward()\n",
    "        optimizer.step()\n",
    "        train_loss += loss.item()\n",
    "        \n",
    "    train_loss /= len(train_loader)\n",
    "    \n",
    "    valid_loss = 0\n",
    "    model.eval()\n",
    "    for x,y in valid_loader:\n",
    "        x = x.to(device)\n",
    "        y = y.to(device)\n",
    "        x.requires_grad=True\n",
    "        \n",
    "        pred = model(x)\n",
    "        loss = criterion(pred,y)\n",
    "        valid_loss += loss.item()\n",
    "    valid_loss /= len(valid_loader)\n",
    "    \n",
    "    if valid_loss < best_valid:\n",
    "        best_valid = valid_loss\n",
    "        best_model = copy.deepcopy(model)\n",
    "    \n",
    "    if e % 100 == 0:\n",
    "        print(f'Epochs: {e}, training loss: {train_loss}, validation loss: {valid_loss}, best_valid_loss: {best_valid}')\n",
    "\n",
    "# score printing      \n",
    "#torch.save(best_model,'./best_model.pth')"
   ]
  },
  {
   "cell_type": "code",
   "execution_count": 82,
   "id": "01da966d",
   "metadata": {},
   "outputs": [
    {
     "data": {
      "text/plain": [
       "<matplotlib.legend.Legend at 0x7fd89dd50370>"
      ]
     },
     "execution_count": 82,
     "metadata": {},
     "output_type": "execute_result"
    },
    {
     "data": {
      "image/png": "[encoded data removed]",
      "text/plain": [
       "<Figure size 720x360 with 1 Axes>"
      ]
     },
     "metadata": {
      "needs_background": "light"
     },
     "output_type": "display_data"
    }
   ],
   "source": [
    "plt.figure(figsize=(10,5))\n",
    "x,y = backup_data[:,0],backup_data[:,1]\n",
    "plt.plot(x,y,'ko',label='data',markersize=1.5)\n",
    "x = np.sort(x)\n",
    "input_x = torch.Tensor(x).to(device).view(-1,1)\n",
    "output_y = best_model(input_x).detach().cpu().numpy()\n",
    "plt.plot(x,output_y,'b-',label='inference')\n",
    "plt.grid()\n",
    "plt.legend()"
   ]
  },
  {
   "cell_type": "code",
   "execution_count": null,
   "id": "49b2d8f0",
   "metadata": {},
   "outputs": [],
   "source": []
  },
  {
   "cell_type": "markdown",
   "id": "421fe13c",
   "metadata": {},
   "source": [
    "### Now, Let's test for limited data size transfer learning? > 50%"
   ]
  },
  {
   "cell_type": "code",
   "execution_count": 56,
   "id": "f861828a",
   "metadata": {},
   "outputs": [],
   "source": [
    "data = data_list[5]# \n",
    "backup_data = copy.deepcopy(data)\n",
    "np.random.shuffle(data)\n",
    "train_data = data[:int(len(data)*0.5)]\n",
    "valid_data = data[int(len(data)*0.5):]\n",
    "\n",
    "train_set = SINUSOID_dataset(train_data)\n",
    "valid_set = SINUSOID_dataset(valid_data)\n",
    "train_loader = DataLoader(train_set,batch_size=batch_size,shuffle=True,drop_last=False)\n",
    "valid_loader = DataLoader(valid_set,batch_size=batch_size,shuffle=False,drop_last=False)"
   ]
  },
  {
   "cell_type": "markdown",
   "id": "2b15dabd",
   "metadata": {},
   "source": [
    "### Normal transfer learning"
   ]
  },
  {
   "cell_type": "code",
   "execution_count": 57,
   "id": "605d4563",
   "metadata": {},
   "outputs": [
    {
     "name": "stdout",
     "output_type": "stream",
     "text": [
      "Epochs: 0, training loss: 0.028795914640068077, validation loss: 0.0010512290289625525, best_valid_loss: 0.0010512290289625525\n",
      "Epochs: 100, training loss: 8.130631275093948e-06, validation loss: 1.4913426753082604e-05, best_valid_loss: 4.802890828159434e-06\n",
      "Epochs: 200, training loss: 1.7879117672237042e-05, validation loss: 2.5702070888655727e-05, best_valid_loss: 4.486787548785287e-06\n",
      "Epochs: 300, training loss: 2.2065620032662992e-05, validation loss: 7.63015670599998e-05, best_valid_loss: 4.486787548785287e-06\n",
      "Epochs: 400, training loss: 5.122000386563741e-05, validation loss: 7.78833436925197e-05, best_valid_loss: 3.9797637839456005e-06\n",
      "Epochs: 500, training loss: 1.3620234307154533e-05, validation loss: 2.48216688305547e-05, best_valid_loss: 3.9797637839456005e-06\n",
      "Epochs: 600, training loss: 1.4905314247926072e-05, validation loss: 4.4139105648355324e-05, best_valid_loss: 3.9797637839456005e-06\n",
      "Epochs: 700, training loss: 2.8098092775508122e-05, validation loss: 8.000756461115088e-05, best_valid_loss: 3.9797637839456005e-06\n",
      "Epochs: 800, training loss: 7.193753981482587e-06, validation loss: 1.5251142758643255e-05, best_valid_loss: 3.9797637839456005e-06\n",
      "Epochs: 900, training loss: 2.2990462093730456e-05, validation loss: 1.8543794340075692e-05, best_valid_loss: 3.9797637839456005e-06\n"
     ]
    }
   ],
   "source": [
    "criterion = nn.MSELoss()\n",
    "\n",
    "#model = Basic_model().to(device)\n",
    "model = torch.load('./best_model.pth')\n",
    "optimizer = optim.Adam(model.parameters(),lr=learning_rate)\n",
    "scheduler = optim.lr_scheduler.StepLR(optimizer,step_size=(epochs//scheduler_step_number),gamma=scheduler_gamma)\n",
    "\n",
    "best_valid = np.inf\n",
    "for e in range(epochs):\n",
    "    train_loss = 0\n",
    "    model.train()\n",
    "    for x,y in train_loader:\n",
    "        x = x.to(device)\n",
    "        y = y.to(device)\n",
    "        \n",
    "        pred = model(x)\n",
    "        loss = criterion(pred,y)\n",
    "        optimizer.zero_grad()\n",
    "        loss.backward()\n",
    "        optimizer.step()\n",
    "        train_loss += loss.item()\n",
    "        \n",
    "    train_loss /= len(train_loader)\n",
    "    \n",
    "    valid_loss = 0\n",
    "    model.eval()\n",
    "    for x,y in valid_loader:\n",
    "        x = x.to(device)\n",
    "        y = y.to(device)\n",
    "        x.requires_grad=True\n",
    "        \n",
    "        pred = model(x)\n",
    "        loss = criterion(pred,y)\n",
    "        valid_loss += loss.item()\n",
    "    valid_loss /= len(valid_loader)\n",
    "    \n",
    "    if valid_loss < best_valid:\n",
    "        best_valid = valid_loss\n",
    "        best_model = copy.deepcopy(model)\n",
    "    \n",
    "    if e % 100 == 0:\n",
    "        print(f'Epochs: {e}, training loss: {train_loss}, validation loss: {valid_loss}, best_valid_loss: {best_valid}')"
   ]
  },
  {
   "cell_type": "code",
   "execution_count": 58,
   "id": "c4dd6465",
   "metadata": {},
   "outputs": [
    {
     "data": {
      "text/plain": [
       "<matplotlib.legend.Legend at 0x7fd8f0415760>"
      ]
     },
     "execution_count": 58,
     "metadata": {},
     "output_type": "execute_result"
    },
    {
     "data": {
      "image/png": "[encoded data removed]",
      "text/plain": [
       "<Figure size 720x360 with 1 Axes>"
      ]
     },
     "metadata": {
      "needs_background": "light"
     },
     "output_type": "display_data"
    }
   ],
   "source": [
    "plt.figure(figsize=(10,5))\n",
    "x,y = backup_data[:,0],backup_data[:,1]\n",
    "plt.plot(x,y,'ko',label='data',markersize=1.5)\n",
    "x = np.sort(x)\n",
    "input_x = torch.Tensor(x).to(device).view(-1,1)\n",
    "output_y = best_model(input_x).detach().cpu().numpy()\n",
    "plt.plot(x,output_y,'b-',label='inference')\n",
    "plt.grid()\n",
    "plt.legend()"
   ]
  },
  {
   "cell_type": "markdown",
   "id": "52ebc2b3",
   "metadata": {},
   "source": [
    "### GS transfer learning"
   ]
  },
  {
   "cell_type": "code",
   "execution_count": 59,
   "id": "f36bcf8e",
   "metadata": {},
   "outputs": [
    {
     "name": "stdout",
     "output_type": "stream",
     "text": [
      "linears.0.weight tensor(15.2106, device='cuda:0')\n",
      "linears.0.bias tensor(5.9223, device='cuda:0')\n",
      "linears.1.weight tensor(9.1667, device='cuda:0')\n",
      "linears.1.bias tensor(0.7727, device='cuda:0')\n",
      "linears.2.weight tensor(34.3755, device='cuda:0')\n",
      "linears.2.bias tensor(0.9737, device='cuda:0')\n",
      "linears.3.weight tensor(810.3983, device='cuda:0')\n",
      "linears.3.bias tensor(0.7223, device='cuda:0')\n",
      "-------------------------------\n",
      "Max_Key: linears.3.weight\n",
      "Max_Value: 810.3983\n",
      "Min_Key: linears.3.bias\n",
      "Min_Value: 0.7223208\n",
      "Epochs: 0, training loss: 6.33595364280045, validation loss: 0.2659175075590611, best_valid_loss: 0.2659175075590611\n",
      "Epochs: 100, training loss: 0.00022562443582501145, validation loss: 0.0011063673126045614, best_valid_loss: 6.454909935200703e-05\n",
      "Epochs: 200, training loss: 2.285985276557767e-05, validation loss: 1.3195433939472424e-05, best_valid_loss: 1.3195433939472424e-05\n",
      "Epochs: 300, training loss: 2.18193163846081e-05, validation loss: 4.729538650281029e-05, best_valid_loss: 8.039928979997058e-06\n",
      "Epochs: 400, training loss: 0.00043897113673665447, validation loss: 0.0011290187336271628, best_valid_loss: 8.039928979997058e-06\n",
      "Epochs: 500, training loss: 0.0002589814220300468, validation loss: 0.0006570416298927739, best_valid_loss: 7.731777907338256e-06\n",
      "Epochs: 600, training loss: 8.44470575430023e-05, validation loss: 7.65662080993934e-05, best_valid_loss: 7.731777907338256e-06\n",
      "Epochs: 700, training loss: 0.0002808325310979853, validation loss: 0.00012044898521708091, best_valid_loss: 7.731777907338256e-06\n",
      "Epochs: 800, training loss: 2.0792077634723682e-05, validation loss: 2.596349927443953e-05, best_valid_loss: 7.731777907338256e-06\n",
      "Epochs: 900, training loss: 0.00037455758538271764, validation loss: 0.0008696264500031248, best_valid_loss: 7.731777907338256e-06\n"
     ]
    }
   ],
   "source": [
    "criterion = nn.MSELoss()\n",
    "\n",
    "#model = Basic_model().to(device)\n",
    "model = torch.load('./best_model.pth')\n",
    "optimizer = optim.Adam(model.parameters(),lr=learning_rate)\n",
    "scheduler = optim.lr_scheduler.StepLR(optimizer,step_size=(epochs//scheduler_step_number),gamma=scheduler_gamma)\n",
    "\n",
    "fisher_matrix = fisher_information_value(model,criterion,train_loader)\n",
    "#print(fisher_matrix)\n",
    "best_max = 0\n",
    "best_min = np.inf\n",
    "for key,value in fisher_matrix.items():\n",
    "    print(key, value.sum())\n",
    "    if value.sum().detach().cpu().numpy() > best_max:\n",
    "        best_max = value.sum().detach().cpu().numpy()\n",
    "        best_max_name = key\n",
    "    if value.sum().detach().cpu().numpy() < best_min:\n",
    "        best_min = value.sum().detach().cpu().numpy()\n",
    "        best_min_name = key\n",
    "        \n",
    "print('-------------------------------')\n",
    "print('Max_Key:', best_max_name)\n",
    "print('Max_Value:',best_max)\n",
    "print('Min_Key:', best_min_name)\n",
    "print('Min_Value:',best_min)\n",
    "\n",
    "for name,parameter in model.named_parameters():\n",
    "    best_layer = best_max_name.split('.')[1]\n",
    "    layer_number = name.split('.')[1]\n",
    "    #if layer_number != best_layer:\n",
    "    if layer_number == best_min_name.split('.')[1]:\n",
    "        parameter.data.copy_(gram_schmidt_orthogonalization(parameter,torch.randn(parameter.size())\\\n",
    "                                                            .to(parameter.device)))\n",
    "\n",
    "best_valid = np.inf\n",
    "for e in range(epochs):\n",
    "    train_loss = 0\n",
    "    model.train()\n",
    "    for x,y in train_loader:\n",
    "        x = x.to(device)\n",
    "        y = y.to(device)\n",
    "        \n",
    "        pred = model(x)\n",
    "        loss = criterion(pred,y)\n",
    "        optimizer.zero_grad()\n",
    "        loss.backward()\n",
    "        optimizer.step()\n",
    "        train_loss += loss.item()\n",
    "        \n",
    "    train_loss /= len(train_loader)\n",
    "    \n",
    "    valid_loss = 0\n",
    "    model.eval()\n",
    "    for x,y in valid_loader:\n",
    "        x = x.to(device)\n",
    "        y = y.to(device)\n",
    "        x.requires_grad=True\n",
    "        \n",
    "        pred = model(x)\n",
    "        loss = criterion(pred,y)\n",
    "        valid_loss += loss.item()\n",
    "    valid_loss /= len(valid_loader)\n",
    "    \n",
    "    if valid_loss < best_valid:\n",
    "        best_valid = valid_loss\n",
    "        best_model = copy.deepcopy(model)\n",
    "    \n",
    "    if e % 100 == 0:\n",
    "        print(f'Epochs: {e}, training loss: {train_loss}, validation loss: {valid_loss}, best_valid_loss: {best_valid}')"
   ]
  },
  {
   "cell_type": "code",
   "execution_count": 60,
   "id": "f5c55744",
   "metadata": {},
   "outputs": [
    {
     "data": {
      "text/plain": [
       "<matplotlib.legend.Legend at 0x7fd89e04cf40>"
      ]
     },
     "execution_count": 60,
     "metadata": {},
     "output_type": "execute_result"
    },
    {
     "data": {
      "image/png": "[encoded data removed]",
      "text/plain": [
       "<Figure size 720x360 with 1 Axes>"
      ]
     },
     "metadata": {
      "needs_background": "light"
     },
     "output_type": "display_data"
    }
   ],
   "source": [
    "plt.figure(figsize=(10,5))\n",
    "x,y = backup_data[:,0],backup_data[:,1]\n",
    "plt.plot(x,y,'ko',label='data',markersize=1.5)\n",
    "x = np.sort(x)\n",
    "input_x = torch.Tensor(x).to(device).view(-1,1)\n",
    "output_y = best_model(input_x).detach().cpu().numpy()\n",
    "plt.plot(x,output_y,'b-',label='inference')\n",
    "plt.grid()\n",
    "plt.legend()"
   ]
  },
  {
   "cell_type": "code",
   "execution_count": null,
   "id": "77e40adb",
   "metadata": {},
   "outputs": [],
   "source": []
  },
  {
   "cell_type": "markdown",
   "id": "d537a532",
   "metadata": {},
   "source": [
    "### More stress test?? > 10%"
   ]
  },
  {
   "cell_type": "code",
   "execution_count": 61,
   "id": "61186bd7",
   "metadata": {},
   "outputs": [],
   "source": [
    "data = data_list[7]# \n",
    "backup_data = copy.deepcopy(data)\n",
    "np.random.shuffle(data)\n",
    "train_data = data[:int(len(data)*0.1)]\n",
    "valid_data = data[int(len(data)*0.1):]\n",
    "\n",
    "train_set = SINUSOID_dataset(train_data)\n",
    "valid_set = SINUSOID_dataset(valid_data)\n",
    "train_loader = DataLoader(train_set,batch_size=batch_size,shuffle=True,drop_last=False)\n",
    "valid_loader = DataLoader(valid_set,batch_size=batch_size,shuffle=False,drop_last=False)"
   ]
  },
  {
   "cell_type": "markdown",
   "id": "ed1d0cfb",
   "metadata": {},
   "source": [
    "### Normal transfer learning"
   ]
  },
  {
   "cell_type": "code",
   "execution_count": 62,
   "id": "0705a11b",
   "metadata": {},
   "outputs": [
    {
     "name": "stdout",
     "output_type": "stream",
     "text": [
      "Epochs: 0, training loss: 0.7163496604189277, validation loss: 0.03810778700969589, best_valid_loss: 0.03810778700969589\n",
      "Epochs: 100, training loss: 1.0070192047351156e-05, validation loss: 1.2816449270758312e-05, best_valid_loss: 7.953245803434237e-06\n",
      "Epochs: 200, training loss: 3.89457701999163e-06, validation loss: 2.654593860735448e-06, best_valid_loss: 2.654593860735448e-06\n",
      "Epochs: 300, training loss: 2.283216008436284e-05, validation loss: 8.754085485352463e-06, best_valid_loss: 2.1747748536987455e-06\n",
      "Epochs: 400, training loss: 3.5632509707284044e-06, validation loss: 5.605076816030139e-06, best_valid_loss: 2.1747748536987455e-06\n",
      "Epochs: 500, training loss: 3.216072832401551e-05, validation loss: 5.07226887991788e-06, best_valid_loss: 2.1747748536987455e-06\n",
      "Epochs: 600, training loss: 3.130144546048541e-05, validation loss: 3.688496564765802e-05, best_valid_loss: 2.1747748536987455e-06\n",
      "Epochs: 700, training loss: 0.0002941453324183385, validation loss: 0.00014870824744436288, best_valid_loss: 2.1747748536987455e-06\n",
      "Epochs: 800, training loss: 0.0002840853194356896, validation loss: 0.0003888927142686722, best_valid_loss: 2.1747748536987455e-06\n",
      "Epochs: 900, training loss: 2.7166757945451536e-05, validation loss: 3.3045469612722664e-05, best_valid_loss: 2.1747748536987455e-06\n"
     ]
    }
   ],
   "source": [
    "criterion = nn.MSELoss()\n",
    "\n",
    "#model = Basic_model().to(device)\n",
    "model = torch.load('./best_model.pth')\n",
    "optimizer = optim.Adam(model.parameters(),lr=learning_rate)\n",
    "scheduler = optim.lr_scheduler.StepLR(optimizer,step_size=(epochs//scheduler_step_number),gamma=scheduler_gamma)\n",
    "\n",
    "best_valid = np.inf\n",
    "for e in range(epochs):\n",
    "    train_loss = 0\n",
    "    model.train()\n",
    "    for x,y in train_loader:\n",
    "        x = x.to(device)\n",
    "        y = y.to(device)\n",
    "        \n",
    "        pred = model(x)\n",
    "        loss = criterion(pred,y)\n",
    "        optimizer.zero_grad()\n",
    "        loss.backward()\n",
    "        optimizer.step()\n",
    "        train_loss += loss.item()\n",
    "        \n",
    "    train_loss /= len(train_loader)\n",
    "    \n",
    "    valid_loss = 0\n",
    "    model.eval()\n",
    "    for x,y in valid_loader:\n",
    "        x = x.to(device)\n",
    "        y = y.to(device)\n",
    "        x.requires_grad=True\n",
    "        \n",
    "        pred = model(x)\n",
    "        loss = criterion(pred,y)\n",
    "        valid_loss += loss.item()\n",
    "    valid_loss /= len(valid_loader)\n",
    "    \n",
    "    if valid_loss < best_valid:\n",
    "        best_valid = valid_loss\n",
    "        best_model = copy.deepcopy(model)\n",
    "    \n",
    "    if e % 100 == 0:\n",
    "        print(f'Epochs: {e}, training loss: {train_loss}, validation loss: {valid_loss}, best_valid_loss: {best_valid}')"
   ]
  },
  {
   "cell_type": "code",
   "execution_count": 63,
   "id": "6cf1110a",
   "metadata": {},
   "outputs": [
    {
     "data": {
      "text/plain": [
       "<matplotlib.legend.Legend at 0x7fd89df76eb0>"
      ]
     },
     "execution_count": 63,
     "metadata": {},
     "output_type": "execute_result"
    },
    {
     "data": {
      "image/png": "[encoded data removed]",
      "text/plain": [
       "<Figure size 720x360 with 1 Axes>"
      ]
     },
     "metadata": {
      "needs_background": "light"
     },
     "output_type": "display_data"
    }
   ],
   "source": [
    "plt.figure(figsize=(10,5))\n",
    "x,y = backup_data[:,0],backup_data[:,1]\n",
    "plt.plot(x,y,'ko',label='data',markersize=1.5)\n",
    "x = np.sort(x)\n",
    "input_x = torch.Tensor(x).to(device).view(-1,1)\n",
    "output_y = best_model(input_x).detach().cpu().numpy()\n",
    "plt.plot(x,output_y,'b-',label='inference')\n",
    "plt.grid()\n",
    "plt.legend()"
   ]
  },
  {
   "cell_type": "markdown",
   "id": "3a81b76e",
   "metadata": {},
   "source": [
    "### GS transfer learning"
   ]
  },
  {
   "cell_type": "code",
   "execution_count": 68,
   "id": "c02e4fa4",
   "metadata": {},
   "outputs": [
    {
     "name": "stdout",
     "output_type": "stream",
     "text": [
      "linears.0.weight tensor(24.7274, device='cuda:0')\n",
      "linears.0.bias tensor(9.8426, device='cuda:0')\n",
      "linears.1.weight tensor(7.4478, device='cuda:0')\n",
      "linears.1.bias tensor(0.8806, device='cuda:0')\n",
      "linears.2.weight tensor(29.9081, device='cuda:0')\n",
      "linears.2.bias tensor(0.9138, device='cuda:0')\n",
      "linears.3.weight tensor(587.9557, device='cuda:0')\n",
      "linears.3.bias tensor(0.7420, device='cuda:0')\n",
      "-------------------------------\n",
      "Max_Key: linears.3.weight\n",
      "Max_Value: 587.9557\n",
      "Min_Key: linears.3.bias\n",
      "Min_Value: 0.74203503\n",
      "Epochs: 0, training loss: 7.48617459833622, validation loss: 2.2003034756217206, best_valid_loss: 2.2003034756217206\n",
      "Epochs: 100, training loss: 0.00011757850916183088, validation loss: 0.00012235938322166322, best_valid_loss: 9.747282333399864e-05\n",
      "Epochs: 200, training loss: 0.00018869348195948987, validation loss: 0.00023245420651248012, best_valid_loss: 3.1658715926541975e-05\n",
      "Epochs: 300, training loss: 0.0004756783200718928, validation loss: 0.0018378505155339207, best_valid_loss: 3.0057429579704752e-05\n",
      "Epochs: 400, training loss: 0.0005733052785217296, validation loss: 0.0014327370994527576, best_valid_loss: 2.0199924671340366e-05\n",
      "Epochs: 500, training loss: 0.010905166156589985, validation loss: 0.0056511651803280265, best_valid_loss: 1.522853957615386e-05\n",
      "Epochs: 600, training loss: 2.6724497956820414e-05, validation loss: 3.184555508839917e-05, best_valid_loss: 1.522853957615386e-05\n",
      "Epochs: 700, training loss: 0.0002450983124617778, validation loss: 0.0003408761674531696, best_valid_loss: 1.522853957615386e-05\n",
      "Epochs: 800, training loss: 0.0003402151742193382, validation loss: 0.0007080755591667979, best_valid_loss: 1.522853957615386e-05\n",
      "Epochs: 900, training loss: 0.00045265786138770636, validation loss: 7.393116385161116e-05, best_valid_loss: 1.522853957615386e-05\n"
     ]
    }
   ],
   "source": [
    "criterion = nn.MSELoss()\n",
    "\n",
    "#model = Basic_model().to(device)\n",
    "model = torch.load('./best_model.pth')\n",
    "optimizer = optim.Adam(model.parameters(),lr=learning_rate)\n",
    "scheduler = optim.lr_scheduler.StepLR(optimizer,step_size=(epochs//scheduler_step_number),gamma=scheduler_gamma)\n",
    "\n",
    "fisher_matrix = fisher_information_value(model,criterion,train_loader)\n",
    "#print(fisher_matrix)\n",
    "best_max = 0\n",
    "best_min = np.inf\n",
    "for key,value in fisher_matrix.items():\n",
    "    print(key, value.sum())\n",
    "    if value.sum().detach().cpu().numpy() > best_max:\n",
    "        best_max = value.sum().detach().cpu().numpy()\n",
    "        best_max_name = key\n",
    "    if value.sum().detach().cpu().numpy() < best_min:\n",
    "        best_min = value.sum().detach().cpu().numpy()\n",
    "        best_min_name = key\n",
    "        \n",
    "print('-------------------------------')\n",
    "print('Max_Key:', best_max_name)\n",
    "print('Max_Value:',best_max)\n",
    "print('Min_Key:', best_min_name)\n",
    "print('Min_Value:',best_min)\n",
    "\n",
    "for name,parameter in model.named_parameters():\n",
    "    best_layer = best_max_name.split('.')[1]\n",
    "    layer_number = name.split('.')[1]\n",
    "    #if layer_number != best_layer:\n",
    "    if layer_number == best_min_name.split('.')[1]:\n",
    "        parameter.data.copy_(gram_schmidt_orthogonalization(parameter,torch.randn(parameter.size())\\\n",
    "                                                            .to(parameter.device)))\n",
    "\n",
    "best_valid = np.inf\n",
    "for e in range(epochs):\n",
    "    train_loss = 0\n",
    "    model.train()\n",
    "    for x,y in train_loader:\n",
    "        x = x.to(device)\n",
    "        y = y.to(device)\n",
    "        \n",
    "        pred = model(x)\n",
    "        loss = criterion(pred,y)\n",
    "        optimizer.zero_grad()\n",
    "        loss.backward()\n",
    "        optimizer.step()\n",
    "        train_loss += loss.item()\n",
    "        \n",
    "    train_loss /= len(train_loader)\n",
    "    \n",
    "    valid_loss = 0\n",
    "    model.eval()\n",
    "    for x,y in valid_loader:\n",
    "        x = x.to(device)\n",
    "        y = y.to(device)\n",
    "        x.requires_grad=True\n",
    "        \n",
    "        pred = model(x)\n",
    "        loss = criterion(pred,y)\n",
    "        valid_loss += loss.item()\n",
    "    valid_loss /= len(valid_loader)\n",
    "    \n",
    "    if valid_loss < best_valid:\n",
    "        best_valid = valid_loss\n",
    "        best_model = copy.deepcopy(model)\n",
    "    \n",
    "    if e % 100 == 0:\n",
    "        print(f'Epochs: {e}, training loss: {train_loss}, validation loss: {valid_loss}, best_valid_loss: {best_valid}')"
   ]
  },
  {
   "cell_type": "code",
   "execution_count": 69,
   "id": "c53af1d2",
   "metadata": {},
   "outputs": [
    {
     "data": {
      "text/plain": [
       "<matplotlib.legend.Legend at 0x7fd89e1d5eb0>"
      ]
     },
     "execution_count": 69,
     "metadata": {},
     "output_type": "execute_result"
    },
    {
     "data": {
      "image/png": "[encoded data removed]",
      "text/plain": [
       "<Figure size 720x360 with 1 Axes>"
      ]
     },
     "metadata": {
      "needs_background": "light"
     },
     "output_type": "display_data"
    }
   ],
   "source": [
    "plt.figure(figsize=(10,5))\n",
    "x,y = backup_data[:,0],backup_data[:,1]\n",
    "plt.plot(x,y,'ko',label='data',markersize=1.5)\n",
    "x = np.sort(x)\n",
    "input_x = torch.Tensor(x).to(device).view(-1,1)\n",
    "output_y = best_model(input_x).detach().cpu().numpy()\n",
    "plt.plot(x,output_y,'b-',label='inference')\n",
    "plt.grid()\n",
    "plt.legend()"
   ]
  },
  {
   "cell_type": "code",
   "execution_count": null,
   "id": "30cf3669",
   "metadata": {},
   "outputs": [],
   "source": []
  }
 ],
 "metadata": {
  "kernelspec": {
   "display_name": "Python 3",
   "language": "python",
   "name": "python3"
  },
  "language_info": {
   "codemirror_mode": {
    "name": "ipython",
    "version": 3
   },
   "file_extension": ".py",
   "mimetype": "text/x-python",
   "name": "python",
   "nbconvert_exporter": "python",
   "pygments_lexer": "ipython3",
   "version": "3.8.10"
  }
 },
 "nbformat": 4,
 "nbformat_minor": 5
}
