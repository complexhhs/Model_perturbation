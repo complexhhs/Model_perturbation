{
 "cells": [
  {
   "cell_type": "code",
   "execution_count": 1,
   "id": "8d2b9585",
   "metadata": {},
   "outputs": [],
   "source": [
    "import torch\n",
    "import torch.nn as nn\n",
    "import torch.optim as optim\n",
    "import torch.nn.functional as F\n",
    "\n",
    "import numpy as np\n",
    "import random\n",
    "import copy\n",
    "import matplotlib.pyplot as plt\n",
    "\n",
    "from torch.utils.data import Dataset,DataLoader,random_split"
   ]
  },
  {
   "cell_type": "code",
   "execution_count": 2,
   "id": "74b10714",
   "metadata": {},
   "outputs": [],
   "source": [
    "def gram_schmidt_orthogonalization(standard_param, target_param,eps=1e-25):\n",
    "    '''\n",
    "    date: 2021.10.21 -> standard_param, target_param type is only valid for torch \n",
    "    Method: Neural network model parameter orthogonalization using Gram-Schmidt orthogonalization process\n",
    "    input    \n",
    "        standard_param: torch.tensor\n",
    "        target_param: torch.tensor\n",
    "    output\n",
    "        orthogonal_vector = After gram-schmidt process (vector, matrix whatever)\n",
    "    '''\n",
    "    assert isinstance(standard_param,np.ndarray) or torch.is_tensor(standard_param), \\\n",
    "        \"Please, check standard Parameter is {numpy, torch} variable\"\n",
    "    assert isinstance(target_param,np.ndarray) or torch.is_tensor(target_param), \\\n",
    "        \"Please, check target Parameter is {numpy, torch} variable\"\n",
    "    \n",
    "    # matrix --> reshape?\n",
    "    origin_size = target_param.size()\n",
    "    standard_param = standard_param.view(-1,)\n",
    "    target_param = target_param.view(-1,)\n",
    "    \n",
    "    # gram-schmidt orthogonalization and original shapre restoring\n",
    "    proj_t_on_s = torch.dot(standard_param,target_param)/(torch.dot(standard_param,standard_param)+eps)*standard_param\n",
    "    orthogonal_vec = target_param-proj_t_on_s\n",
    "    orthogonal_vec = orthogonal_vec.view([sz for sz in origin_size])\n",
    "    # matrix --> SVD???? later.....\n",
    "    return orthogonal_vec"
   ]
  },
  {
   "cell_type": "markdown",
   "id": "d05cde9b",
   "metadata": {},
   "source": [
    "### Making sinusoid test list"
   ]
  },
  {
   "cell_type": "code",
   "execution_count": 3,
   "id": "c49fcace",
   "metadata": {},
   "outputs": [],
   "source": [
    "x = np.linspace(-3,3,10000)\n",
    "amp = np.random.uniform(0.1,5,10000)\n",
    "phi = np.random.uniform(0,np.pi,10000)\n",
    "\n",
    "num_task = 100\n",
    "data_list = []\n",
    "for nt in range(num_task):\n",
    "    y = amp[nt]*np.sin(x+phi[nt])\n",
    "    data = np.stack((x,y),axis=1)\n",
    "    data_list.append(data)\n",
    "data_list = np.array(data_list)"
   ]
  },
  {
   "cell_type": "code",
   "execution_count": 4,
   "id": "1f6bd2e2",
   "metadata": {},
   "outputs": [
    {
     "name": "stdout",
     "output_type": "stream",
     "text": [
      "(10000, 2)\n"
     ]
    }
   ],
   "source": [
    "print(data_list[0].shape)"
   ]
  },
  {
   "cell_type": "code",
   "execution_count": 5,
   "id": "c2fb4ee8",
   "metadata": {},
   "outputs": [
    {
     "data": {
      "image/png": "[encoded data removed]",
      "text/plain": [
       "<Figure size 720x360 with 1 Axes>"
      ]
     },
     "metadata": {
      "needs_background": "light"
     },
     "output_type": "display_data"
    }
   ],
   "source": [
    "# plotting\n",
    "data = data_list[0]\n",
    "x,y = data[:,0], data[:,1]\n",
    "plt.figure(figsize=(10,5))\n",
    "plt.plot(x,y)\n",
    "plt.grid()"
   ]
  },
  {
   "cell_type": "code",
   "execution_count": 38,
   "id": "44432940",
   "metadata": {},
   "outputs": [
    {
     "name": "stdout",
     "output_type": "stream",
     "text": [
      "cuda:0\n"
     ]
    }
   ],
   "source": [
    "device = torch.device('cuda:0')\n",
    "print(device)\n",
    "#device = torch.device('cpu')"
   ]
  },
  {
   "cell_type": "code",
   "execution_count": 39,
   "id": "394b4e90",
   "metadata": {},
   "outputs": [],
   "source": [
    "class Basic_model(nn.Module):\n",
    "    def __init__(self,num_hidden_layer=3,num_hidden_node=32,input_dim=1,output_dim=1):\n",
    "        super(Basic_model,self).__init__()\n",
    "        self.linears = nn.ModuleList([nn.Linear(input_dim,num_hidden_node)])\n",
    "        self.linears.extend([nn.Linear(num_hidden_node,num_hidden_node) for i in range(num_hidden_layer-1)])\n",
    "        self.linears.append(nn.Linear(num_hidden_node,output_dim))\n",
    "        \n",
    "    def forward(self,x):\n",
    "        for idx, branch in enumerate(self.linears):\n",
    "            if idx != len(self.linears)-1:\n",
    "                x = F.elu(branch(x))\n",
    "            else:\n",
    "                x = branch(x)\n",
    "        return x"
   ]
  },
  {
   "cell_type": "code",
   "execution_count": 40,
   "id": "c19f41d5",
   "metadata": {},
   "outputs": [],
   "source": [
    "class SINUSOID_dataset(Dataset):\n",
    "    def __init__(self,data):\n",
    "        self.x, self.y = data[:,0],data[:,1]\n",
    "        self.x = self.x.reshape(-1,1)\n",
    "        self.y = self.y.reshape(-1,1)\n",
    "        \n",
    "    def __getitem__(self,idx):\n",
    "        return torch.FloatTensor(self.x[idx,:]), torch.FloatTensor(self.y[idx,:])\n",
    "    \n",
    "    def __len__(self):\n",
    "        return len(self.x)"
   ]
  },
  {
   "cell_type": "code",
   "execution_count": 41,
   "id": "cab22b0d",
   "metadata": {},
   "outputs": [],
   "source": [
    "epochs = 1000\n",
    "batch_size=128\n",
    "learning_rate = 0.01\n",
    "scheduler_step_number=25\n",
    "scheduler_gamma=0.97"
   ]
  },
  {
   "cell_type": "code",
   "execution_count": 42,
   "id": "6f8c2b16",
   "metadata": {},
   "outputs": [
    {
     "name": "stdout",
     "output_type": "stream",
     "text": [
      "Epochs: 0, training loss: 0.2306773373931055, validation loss: 0.008287836681120098, best_valid_loss: 0.008287836681120098\n",
      "Epochs: 100, training loss: 0.00035898272232323447, validation loss: 6.819023883508635e-05, best_valid_loss: 1.196731591335265e-05\n",
      "Epochs: 200, training loss: 0.0002186294235769541, validation loss: 0.0003432515022723237, best_valid_loss: 8.09611165664137e-06\n",
      "Epochs: 300, training loss: 3.190585281002328e-05, validation loss: 3.147629024624621e-05, best_valid_loss: 8.09611165664137e-06\n",
      "Epochs: 400, training loss: 3.802254146677793e-05, validation loss: 4.606280913321825e-05, best_valid_loss: 6.4725508934770914e-06\n",
      "Epochs: 500, training loss: 9.721805633042037e-05, validation loss: 5.348861395759741e-05, best_valid_loss: 6.4725508934770914e-06\n",
      "Epochs: 600, training loss: 4.7189647317743886e-05, validation loss: 2.1249129190437088e-05, best_valid_loss: 6.4725508934770914e-06\n",
      "Epochs: 700, training loss: 1.7700005238501554e-05, validation loss: 1.479252949820875e-05, best_valid_loss: 6.4725508934770914e-06\n",
      "Epochs: 800, training loss: 1.2506192975013705e-05, validation loss: 1.1623168063579215e-05, best_valid_loss: 6.4725508934770914e-06\n",
      "Epochs: 900, training loss: 2.9600665505039082e-05, validation loss: 1.8011701172326866e-05, best_valid_loss: 6.352122056796361e-06\n"
     ]
    }
   ],
   "source": [
    "data = data_list[0]# \n",
    "criterion = nn.MSELoss()\n",
    "backup_data = copy.deepcopy(data)\n",
    "np.random.shuffle(data)\n",
    "train_data = data[:int(len(data)*0.8)]\n",
    "valid_data = data[int(len(data)*0.8):]\n",
    "\n",
    "train_set = SINUSOID_dataset(train_data)\n",
    "valid_set = SINUSOID_dataset(valid_data)\n",
    "train_loader = DataLoader(train_set,batch_size=batch_size,shuffle=True,drop_last=False)\n",
    "valid_loader = DataLoader(valid_set,batch_size=batch_size,shuffle=False,drop_last=False)\n",
    "\n",
    "model = Basic_model().to(device)\n",
    "optimizer = optim.Adam(model.parameters(),lr=learning_rate)\n",
    "scheduler = optim.lr_scheduler.StepLR(optimizer,step_size=(epochs//scheduler_step_number),gamma=scheduler_gamma)\n",
    "\n",
    "best_valid = np.inf\n",
    "for e in range(epochs):\n",
    "    train_loss = 0\n",
    "    model.train()\n",
    "    for x,y in train_loader:\n",
    "        x = x.to(device)\n",
    "        y = y.to(device)\n",
    "        \n",
    "        pred = model(x)\n",
    "        loss = criterion(pred,y)\n",
    "        optimizer.zero_grad()\n",
    "        loss.backward()\n",
    "        optimizer.step()\n",
    "        train_loss += loss.item()\n",
    "        \n",
    "    train_loss /= len(train_loader)\n",
    "    \n",
    "    valid_loss = 0\n",
    "    model.eval()\n",
    "    for x,y in valid_loader:\n",
    "        x = x.to(device)\n",
    "        y = y.to(device)\n",
    "        x.requires_grad=True\n",
    "        \n",
    "        pred = model(x)\n",
    "        loss = criterion(pred,y)\n",
    "        valid_loss += loss.item()\n",
    "    valid_loss /= len(valid_loader)\n",
    "    \n",
    "    if valid_loss < best_valid:\n",
    "        best_valid = valid_loss\n",
    "        best_model = copy.deepcopy(model)\n",
    "    \n",
    "    if e % 100 == 0:\n",
    "        print(f'Epochs: {e}, training loss: {train_loss}, validation loss: {valid_loss}, best_valid_loss: {best_valid}')\n",
    "\n",
    "# score printing\n",
    "torch.save(best_model,'./best_model.pth')"
   ]
  },
  {
   "cell_type": "code",
   "execution_count": 43,
   "id": "930749f2",
   "metadata": {},
   "outputs": [
    {
     "name": "stdout",
     "output_type": "stream",
     "text": [
      "(10000, 1)\n"
     ]
    },
    {
     "data": {
      "text/plain": [
       "<matplotlib.legend.Legend at 0x7fd8f0057cd0>"
      ]
     },
     "execution_count": 43,
     "metadata": {},
     "output_type": "execute_result"
    },
    {
     "data": {
      "image/png": "[encoded data removed]",
      "text/plain": [
       "<Figure size 720x360 with 1 Axes>"
      ]
     },
     "metadata": {
      "needs_background": "light"
     },
     "output_type": "display_data"
    }
   ],
   "source": [
    "x,y = backup_data[:,0],backup_data[:,1]\n",
    "\n",
    "input_x = torch.Tensor(x).to(device).view(-1,1)\n",
    "output_y = best_model(input_x).detach().cpu().numpy()\n",
    "print(output_y.shape)\n",
    "plt.figure(figsize=(10,5))\n",
    "plt.plot(x,y,'k-',label='data')\n",
    "plt.plot(x,output_y,'b-',label='inference')\n",
    "plt.grid()\n",
    "plt.legend()"
   ]
  },
  {
   "cell_type": "code",
   "execution_count": 44,
   "id": "8e31e28d",
   "metadata": {},
   "outputs": [
    {
     "name": "stdout",
     "output_type": "stream",
     "text": [
      "done\n"
     ]
    }
   ],
   "source": [
    "print('done')"
   ]
  },
  {
   "cell_type": "code",
   "execution_count": 45,
   "id": "d351e3ac",
   "metadata": {},
   "outputs": [
    {
     "name": "stdout",
     "output_type": "stream",
     "text": [
      "linears.0.weight tensor(3.0746e-05, device='cuda:0')\n",
      "linears.0.bias tensor(7.9053e-06, device='cuda:0')\n",
      "linears.1.weight tensor(1.3146e-05, device='cuda:0')\n",
      "linears.1.bias tensor(1.2233e-06, device='cuda:0')\n",
      "linears.2.weight tensor(4.1553e-05, device='cuda:0')\n",
      "linears.2.bias tensor(1.6752e-06, device='cuda:0')\n",
      "linears.3.weight tensor(0.0008, device='cuda:0')\n",
      "linears.3.bias tensor(1.0799e-05, device='cuda:0')\n",
      "-------------------------------\n",
      "Max_Key: linears.3.weight\n",
      "Max_Value: 0.00076972356\n",
      "Min_Key: linears.1.bias\n",
      "Min_Value: 1.2232556e-06\n"
     ]
    }
   ],
   "source": [
    "def fisher_information_value(model, criterion, data_loader):\n",
    "    precision_matrices = {}\n",
    "    for n,p in model.named_parameters():\n",
    "        precision_matrices[n] = 0\n",
    "    \n",
    "    model.eval()\n",
    "    for x,y in data_loader:\n",
    "        model.zero_grad()\n",
    "        x = x.to(device)\n",
    "        y = y.to(device)\n",
    "        output = model(x)\n",
    "        loss = criterion(output, y)\n",
    "        loss.backward()\n",
    "        \n",
    "        for n,p in model.named_parameters():\n",
    "            precision_matrices[n] += p.grad.data**2\n",
    "    precision_matrices = {n:p for n,p in precision_matrices.items()}\n",
    "    return precision_matrices\n",
    "\n",
    "fisher_matrix = fisher_information_value(best_model,criterion,valid_loader)\n",
    "#print(fisher_matrix)\n",
    "best_max = 0\n",
    "best_min = np.inf\n",
    "for key,value in fisher_matrix.items():\n",
    "    print(key, value.sum())\n",
    "    if value.sum().detach().cpu().numpy() > best_max:\n",
    "        best_max = value.sum().detach().cpu().numpy()\n",
    "        best_max_name = key\n",
    "    if value.sum().detach().cpu().numpy() < best_min:\n",
    "        best_min = value.sum().detach().cpu().numpy()\n",
    "        best_min_name = key\n",
    "        \n",
    "print('-------------------------------')\n",
    "print('Max_Key:', best_max_name)\n",
    "print('Max_Value:',best_max)\n",
    "print('Min_Key:', best_min_name)\n",
    "print('Min_Value:',best_min)"
   ]
  },
  {
   "cell_type": "markdown",
   "id": "999995bf",
   "metadata": {},
   "source": [
    "### Transfer learning dataset preparation"
   ]
  },
  {
   "cell_type": "code",
   "execution_count": 46,
   "id": "c36fef8e",
   "metadata": {},
   "outputs": [],
   "source": [
    "data = data_list[2]# \n",
    "backup_data = copy.deepcopy(data)\n",
    "np.random.shuffle(data)\n",
    "train_data = data[:int(len(data)*0.8)]\n",
    "valid_data = data[int(len(data)*0.8):]\n",
    "\n",
    "train_set = SINUSOID_dataset(train_data)\n",
    "valid_set = SINUSOID_dataset(valid_data)\n",
    "train_loader = DataLoader(train_set,batch_size=batch_size,shuffle=True,drop_last=False)\n",
    "valid_loader = DataLoader(valid_set,batch_size=batch_size,shuffle=False,drop_last=False)"
   ]
  },
  {
   "cell_type": "markdown",
   "id": "919d5376",
   "metadata": {},
   "source": [
    "### normal transfer learning"
   ]
  },
  {
   "cell_type": "code",
   "execution_count": 47,
   "id": "2e5c01ec",
   "metadata": {},
   "outputs": [
    {
     "name": "stdout",
     "output_type": "stream",
     "text": [
      "Epochs: 0, training loss: 0.11903080819470305, validation loss: 0.002465557925461326, best_valid_loss: 0.002465557925461326\n",
      "Epochs: 100, training loss: 3.995465247874289e-05, validation loss: 2.2133151901471138e-05, best_valid_loss: 2.0489837083914608e-05\n",
      "Epochs: 200, training loss: 8.411102008101315e-05, validation loss: 5.469431062010699e-05, best_valid_loss: 1.9610777371781296e-05\n",
      "Epochs: 300, training loss: 6.337895507703439e-05, validation loss: 0.00012835680990974652, best_valid_loss: 1.17280764015959e-05\n",
      "Epochs: 400, training loss: 7.477500057864254e-05, validation loss: 6.359332110150717e-05, best_valid_loss: 1.17280764015959e-05\n",
      "Epochs: 500, training loss: 0.00010995649730224007, validation loss: 4.387258809401828e-05, best_valid_loss: 1.17280764015959e-05\n",
      "Epochs: 600, training loss: 9.74576093237071e-05, validation loss: 0.00018482674022379797, best_valid_loss: 1.17280764015959e-05\n",
      "Epochs: 700, training loss: 7.282917186020068e-05, validation loss: 2.4956583729363047e-05, best_valid_loss: 1.17280764015959e-05\n",
      "Epochs: 800, training loss: 0.0001750842451627481, validation loss: 0.0001037398637890874, best_valid_loss: 1.17280764015959e-05\n",
      "Epochs: 900, training loss: 3.741125851414085e-05, validation loss: 1.3157707940081309e-05, best_valid_loss: 1.17280764015959e-05\n"
     ]
    }
   ],
   "source": [
    "criterion = nn.MSELoss()\n",
    "\n",
    "#model = Basic_model().to(device)\n",
    "model = torch.load('./best_model.pth')\n",
    "optimizer = optim.Adam(model.parameters(),lr=learning_rate)\n",
    "scheduler = optim.lr_scheduler.StepLR(optimizer,step_size=(epochs//scheduler_step_number),gamma=scheduler_gamma)\n",
    "\n",
    "best_valid = np.inf\n",
    "for e in range(epochs):\n",
    "    train_loss = 0\n",
    "    model.train()\n",
    "    for x,y in train_loader:\n",
    "        x = x.to(device)\n",
    "        y = y.to(device)\n",
    "        \n",
    "        pred = model(x)\n",
    "        loss = criterion(pred,y)\n",
    "        optimizer.zero_grad()\n",
    "        loss.backward()\n",
    "        optimizer.step()\n",
    "        train_loss += loss.item()\n",
    "        \n",
    "    train_loss /= len(train_loader)\n",
    "    \n",
    "    valid_loss = 0\n",
    "    model.eval()\n",
    "    for x,y in valid_loader:\n",
    "        x = x.to(device)\n",
    "        y = y.to(device)\n",
    "        x.requires_grad=True\n",
    "        \n",
    "        pred = model(x)\n",
    "        loss = criterion(pred,y)\n",
    "        valid_loss += loss.item()\n",
    "    valid_loss /= len(valid_loader)\n",
    "    \n",
    "    if valid_loss < best_valid:\n",
    "        best_valid = valid_loss\n",
    "        best_model = copy.deepcopy(model)\n",
    "    \n",
    "    if e % 100 == 0:\n",
    "        print(f'Epochs: {e}, training loss: {train_loss}, validation loss: {valid_loss}, best_valid_loss: {best_valid}')\n",
    "\n",
    "# score printing      \n",
    "#torch.save(best_model,'./best_model.pth')"
   ]
  },
  {
   "cell_type": "code",
   "execution_count": 48,
   "id": "bff2a395",
   "metadata": {},
   "outputs": [
    {
     "data": {
      "text/plain": [
       "<matplotlib.legend.Legend at 0x7fd8f009ea60>"
      ]
     },
     "execution_count": 48,
     "metadata": {},
     "output_type": "execute_result"
    },
    {
     "data": {
      "image/png": "[encoded data removed]",
      "text/plain": [
       "<Figure size 720x360 with 1 Axes>"
      ]
     },
     "metadata": {
      "needs_background": "light"
     },
     "output_type": "display_data"
    }
   ],
   "source": [
    "plt.figure(figsize=(10,5))\n",
    "x,y = backup_data[:,0],backup_data[:,1]\n",
    "plt.plot(x,y,'ko',label='data',markersize=1.5)\n",
    "x = np.sort(x)\n",
    "input_x = torch.Tensor(x).to(device).view(-1,1)\n",
    "output_y = best_model(input_x).detach().cpu().numpy()\n",
    "plt.plot(x,output_y,'b-',label='inference')\n",
    "plt.grid()\n",
    "plt.legend()"
   ]
  },
  {
   "cell_type": "markdown",
   "id": "49903267",
   "metadata": {},
   "source": [
    "### Fisher information - Gram_Schimidt orthogonalization"
   ]
  },
  {
   "cell_type": "code",
   "execution_count": 49,
   "id": "f6ddd7e7",
   "metadata": {},
   "outputs": [
    {
     "name": "stdout",
     "output_type": "stream",
     "text": [
      "linears.0.weight tensor(356.3076, device='cuda:0')\n",
      "linears.0.bias tensor(191.2274, device='cuda:0')\n",
      "linears.1.weight tensor(165.6955, device='cuda:0')\n",
      "linears.1.bias tensor(14.5939, device='cuda:0')\n",
      "linears.2.weight tensor(241.5309, device='cuda:0')\n",
      "linears.2.bias tensor(2.8956, device='cuda:0')\n",
      "linears.3.weight tensor(1897.8557, device='cuda:0')\n",
      "linears.3.bias tensor(4.0739, device='cuda:0')\n",
      "-------------------------------\n",
      "Max_Key: linears.3.weight\n",
      "Max_Value: 1897.8557\n",
      "Min_Key: linears.2.bias\n",
      "Min_Value: 2.895595\n",
      "Epochs: 0, training loss: 0.231824596612049, validation loss: 0.002708273932512384, best_valid_loss: 0.002708273932512384\n",
      "Epochs: 100, training loss: 6.42927108625401e-05, validation loss: 4.472120440368599e-05, best_valid_loss: 1.641647781980282e-05\n",
      "Epochs: 200, training loss: 0.0005036229630359375, validation loss: 0.00011450792544565047, best_valid_loss: 1.641647781980282e-05\n",
      "Epochs: 300, training loss: 0.00043125718828320266, validation loss: 0.0010848932106455322, best_valid_loss: 1.1638060129826044e-05\n",
      "Epochs: 400, training loss: 2.301650125619268e-05, validation loss: 4.0293244182976196e-05, best_valid_loss: 1.1638060129826044e-05\n",
      "Epochs: 500, training loss: 0.0008054652898285967, validation loss: 0.0008818312016956042, best_valid_loss: 8.764448381270995e-06\n",
      "Epochs: 600, training loss: 2.9083826986953638e-05, validation loss: 0.00012686309082710068, best_valid_loss: 8.764448381270995e-06\n",
      "Epochs: 700, training loss: 2.3300876775811913e-05, validation loss: 1.156911929456328e-05, best_valid_loss: 8.764448381270995e-06\n",
      "Epochs: 800, training loss: 2.5728707716177543e-05, validation loss: 1.9131387716697645e-05, best_valid_loss: 6.955116560902752e-06\n",
      "Epochs: 900, training loss: 1.931089328926256e-05, validation loss: 4.890035961579997e-05, best_valid_loss: 6.955116560902752e-06\n"
     ]
    }
   ],
   "source": [
    "data = data_list[2]# \n",
    "criterion = nn.MSELoss()\n",
    "backup_data = copy.deepcopy(backup_data)\n",
    "\n",
    "np.random.shuffle(data)\n",
    "train_data = data[:int(len(data)*0.8)]\n",
    "valid_data = data[int(len(data)*0.8):]\n",
    "\n",
    "train_set = SINUSOID_dataset(train_data)\n",
    "valid_set = SINUSOID_dataset(valid_data)\n",
    "train_loader = DataLoader(train_set,batch_size=batch_size,shuffle=True,drop_last=False)\n",
    "valid_loader = DataLoader(valid_set,batch_size=batch_size,shuffle=False,drop_last=False)\n",
    "\n",
    "#model = Basic_model().to(device)\n",
    "model = torch.load('./best_model.pth')\n",
    "optimizer = optim.Adam(model.parameters(),lr=learning_rate)\n",
    "scheduler = optim.lr_scheduler.StepLR(optimizer,step_size=(epochs//scheduler_step_number),gamma=scheduler_gamma)\n",
    "\n",
    "fisher_matrix = fisher_information_value(model,criterion,train_loader)\n",
    "#print(fisher_matrix)\n",
    "best_max = 0\n",
    "best_min = np.inf\n",
    "for key,value in fisher_matrix.items():\n",
    "    print(key, value.sum())\n",
    "    if value.sum().detach().cpu().numpy() > best_max:\n",
    "        best_max = value.sum().detach().cpu().numpy()\n",
    "        best_max_name = key\n",
    "    if value.sum().detach().cpu().numpy() < best_min:\n",
    "        best_min = value.sum().detach().cpu().numpy()\n",
    "        best_min_name = key\n",
    "        \n",
    "print('-------------------------------')\n",
    "print('Max_Key:', best_max_name)\n",
    "print('Max_Value:',best_max)\n",
    "print('Min_Key:', best_min_name)\n",
    "print('Min_Value:',best_min)\n",
    "\n",
    "for name,parameter in model.named_parameters():\n",
    "    best_layer = best_max_name.split('.')[1]\n",
    "    layer_number = name.split('.')[1]\n",
    "    #if layer_number != best_layer:\n",
    "    if layer_number == best_min_name.split('.')[1]:\n",
    "        parameter.data.copy_(gram_schmidt_orthogonalization(parameter,torch.randn(parameter.size())\\\n",
    "                                                            .to(parameter.device)))\n",
    "\n",
    "best_valid = np.inf\n",
    "for e in range(epochs):\n",
    "    train_loss = 0\n",
    "    model.train()\n",
    "    for x,y in train_loader:\n",
    "        x = x.to(device)\n",
    "        y = y.to(device)\n",
    "        \n",
    "        pred = model(x)\n",
    "        loss = criterion(pred,y)\n",
    "        optimizer.zero_grad()\n",
    "        loss.backward()\n",
    "        optimizer.step()\n",
    "        train_loss += loss.item()\n",
    "        \n",
    "    train_loss /= len(train_loader)\n",
    "    \n",
    "    valid_loss = 0\n",
    "    model.eval()\n",
    "    for x,y in valid_loader:\n",
    "        x = x.to(device)\n",
    "        y = y.to(device)\n",
    "        x.requires_grad=True\n",
    "        \n",
    "        pred = model(x)\n",
    "        loss = criterion(pred,y)\n",
    "        valid_loss += loss.item()\n",
    "    valid_loss /= len(valid_loader)\n",
    "    \n",
    "    if valid_loss < best_valid:\n",
    "        best_valid = valid_loss\n",
    "        best_model = copy.deepcopy(model)\n",
    "    \n",
    "    if e % 100 == 0:\n",
    "        print(f'Epochs: {e}, training loss: {train_loss}, validation loss: {valid_loss}, best_valid_loss: {best_valid}')\n",
    "\n",
    "# score printing      \n",
    "#torch.save(best_model,'./best_model.pth')"
   ]
  },
  {
   "cell_type": "code",
   "execution_count": 50,
   "id": "f11d9c75",
   "metadata": {},
   "outputs": [
    {
     "data": {
      "text/plain": [
       "<matplotlib.legend.Legend at 0x7fd89e1d38b0>"
      ]
     },
     "execution_count": 50,
     "metadata": {},
     "output_type": "execute_result"
    },
    {
     "data": {
      "image/png": "[encoded data removed]",
      "text/plain": [
       "<Figure size 720x360 with 1 Axes>"
      ]
     },
     "metadata": {
      "needs_background": "light"
     },
     "output_type": "display_data"
    }
   ],
   "source": [
    "plt.figure(figsize=(10,5))\n",
    "x,y = backup_data[:,0],backup_data[:,1]\n",
    "plt.plot(x,y,'ko',label='data',markersize=1.5)\n",
    "x = np.sort(x)\n",
    "input_x = torch.Tensor(x).to(device).view(-1,1)\n",
    "output_y = best_model(input_x).detach().cpu().numpy()\n",
    "plt.plot(x,output_y,'b-',label='inference')\n",
    "plt.grid()\n",
    "plt.legend()"
   ]
  },
  {
   "cell_type": "code",
   "execution_count": null,
   "id": "49b2d8f0",
   "metadata": {},
   "outputs": [],
   "source": []
  },
  {
   "cell_type": "markdown",
   "id": "18a04ff1",
   "metadata": {},
   "source": [
    "### Now, Let's test for limited data size transfer learning? > 50%"
   ]
  },
  {
   "cell_type": "code",
   "execution_count": null,
   "id": "f861828a",
   "metadata": {},
   "outputs": [],
   "source": [
    "data = data_list[5]# \n",
    "backup_data = copy.deepcopy(data)\n",
    "np.random.shuffle(data)\n",
    "train_data = data[:int(len(data)*0.5)]\n",
    "valid_data = data[int(len(data)*0.5):]\n",
    "\n",
    "train_set = SINUSOID_dataset(train_data)\n",
    "valid_set = SINUSOID_dataset(valid_data)\n",
    "train_loader = DataLoader(train_set,batch_size=batch_size,shuffle=True,drop_last=False)\n",
    "valid_loader = DataLoader(valid_set,batch_size=batch_size,shuffle=False,drop_last=False)"
   ]
  },
  {
   "cell_type": "markdown",
   "id": "06d57e9f",
   "metadata": {},
   "source": [
    "### Normal transfer learning"
   ]
  },
  {
   "cell_type": "code",
   "execution_count": null,
   "id": "e1b2b7fb",
   "metadata": {},
   "outputs": [],
   "source": [
    "criterion = nn.MSELoss()\n",
    "\n",
    "#model = Basic_model().to(device)\n",
    "model = torch.load('./best_model.pth')\n",
    "optimizer = optim.Adam(model.parameters(),lr=learning_rate)\n",
    "scheduler = optim.lr_scheduler.StepLR(optimizer,step_size=(epochs//scheduler_step_number),gamma=scheduler_gamma)\n",
    "\n",
    "best_valid = np.inf\n",
    "for e in range(epochs):\n",
    "    train_loss = 0\n",
    "    model.train()\n",
    "    for x,y in train_loader:\n",
    "        x = x.to(device)\n",
    "        y = y.to(device)\n",
    "        \n",
    "        pred = model(x)\n",
    "        loss = criterion(pred,y)\n",
    "        optimizer.zero_grad()\n",
    "        loss.backward()\n",
    "        optimizer.step()\n",
    "        train_loss += loss.item()\n",
    "        \n",
    "    train_loss /= len(train_loader)\n",
    "    \n",
    "    valid_loss = 0\n",
    "    model.eval()\n",
    "    for x,y in valid_loader:\n",
    "        x = x.to(device)\n",
    "        y = y.to(device)\n",
    "        x.requires_grad=True\n",
    "        \n",
    "        pred = model(x)\n",
    "        loss = criterion(pred,y)\n",
    "        valid_loss += loss.item()\n",
    "    valid_loss /= len(valid_loader)\n",
    "    \n",
    "    if valid_loss < best_valid:\n",
    "        best_valid = valid_loss\n",
    "        best_model = copy.deepcopy(model)\n",
    "    \n",
    "    if e % 100 == 0:\n",
    "        print(f'Epochs: {e}, training loss: {train_loss}, validation loss: {valid_loss}, best_valid_loss: {best_valid}')"
   ]
  },
  {
   "cell_type": "code",
   "execution_count": null,
   "id": "fc86e1d6",
   "metadata": {},
   "outputs": [],
   "source": [
    "plt.figure(figsize=(10,5))\n",
    "x,y = backup_data[:,0],backup_data[:,1]\n",
    "plt.plot(x,y,'ko',label='data',markersize=1.5)\n",
    "x = np.sort(x)\n",
    "input_x = torch.Tensor(x).to(device).view(-1,1)\n",
    "output_y = best_model(input_x).detach().cpu().numpy()\n",
    "plt.plot(x,output_y,'b-',label='inference')\n",
    "plt.grid()\n",
    "plt.legend()"
   ]
  },
  {
   "cell_type": "markdown",
   "id": "52214822",
   "metadata": {},
   "source": [
    "### GS transfer learning"
   ]
  },
  {
   "cell_type": "code",
   "execution_count": null,
   "id": "0b1222fa",
   "metadata": {},
   "outputs": [],
   "source": [
    "criterion = nn.MSELoss()\n",
    "\n",
    "#model = Basic_model().to(device)\n",
    "model = torch.load('./best_model.pth')\n",
    "optimizer = optim.Adam(model.parameters(),lr=learning_rate)\n",
    "scheduler = optim.lr_scheduler.StepLR(optimizer,step_size=(epochs//scheduler_step_number),gamma=scheduler_gamma)\n",
    "\n",
    "fisher_matrix = fisher_information_value(model,criterion,train_loader)\n",
    "#print(fisher_matrix)\n",
    "best_max = 0\n",
    "best_min = np.inf\n",
    "for key,value in fisher_matrix.items():\n",
    "    print(key, value.sum())\n",
    "    if value.sum().detach().cpu().numpy() > best_max:\n",
    "        best_max = value.sum().detach().cpu().numpy()\n",
    "        best_max_name = key\n",
    "    if value.sum().detach().cpu().numpy() < best_min:\n",
    "        best_min = value.sum().detach().cpu().numpy()\n",
    "        best_min_name = key\n",
    "        \n",
    "print('-------------------------------')\n",
    "print('Max_Key:', best_max_name)\n",
    "print('Max_Value:',best_max)\n",
    "print('Min_Key:', best_min_name)\n",
    "print('Min_Value:',best_min)\n",
    "\n",
    "for name,parameter in model.named_parameters():\n",
    "    best_layer = best_max_name.split('.')[1]\n",
    "    layer_number = name.split('.')[1]\n",
    "    #if layer_number != best_layer:\n",
    "    if layer_number == best_min_name.split('.')[1]:\n",
    "        parameter.data.copy_(gram_schmidt_orthogonalization(parameter,torch.randn(parameter.size())\\\n",
    "                                                            .to(parameter.device)))\n",
    "\n",
    "best_valid = np.inf\n",
    "for e in range(epochs):\n",
    "    train_loss = 0\n",
    "    model.train()\n",
    "    for x,y in train_loader:\n",
    "        x = x.to(device)\n",
    "        y = y.to(device)\n",
    "        \n",
    "        pred = model(x)\n",
    "        loss = criterion(pred,y)\n",
    "        optimizer.zero_grad()\n",
    "        loss.backward()\n",
    "        optimizer.step()\n",
    "        train_loss += loss.item()\n",
    "        \n",
    "    train_loss /= len(train_loader)\n",
    "    \n",
    "    valid_loss = 0\n",
    "    model.eval()\n",
    "    for x,y in valid_loader:\n",
    "        x = x.to(device)\n",
    "        y = y.to(device)\n",
    "        x.requires_grad=True\n",
    "        \n",
    "        pred = model(x)\n",
    "        loss = criterion(pred,y)\n",
    "        valid_loss += loss.item()\n",
    "    valid_loss /= len(valid_loader)\n",
    "    \n",
    "    if valid_loss < best_valid:\n",
    "        best_valid = valid_loss\n",
    "        best_model = copy.deepcopy(model)\n",
    "    \n",
    "    if e % 100 == 0:\n",
    "        print(f'Epochs: {e}, training loss: {train_loss}, validation loss: {valid_loss}, best_valid_loss: {best_valid}')"
   ]
  },
  {
   "cell_type": "code",
   "execution_count": null,
   "id": "53e91fab",
   "metadata": {},
   "outputs": [],
   "source": [
    "plt.figure(figsize=(10,5))\n",
    "x,y = backup_data[:,0],backup_data[:,1]\n",
    "plt.plot(x,y,'ko',label='data',markersize=1.5)\n",
    "x = np.sort(x)\n",
    "input_x = torch.Tensor(x).to(device).view(-1,1)\n",
    "output_y = best_model(input_x).detach().cpu().numpy()\n",
    "plt.plot(x,output_y,'b-',label='inference')\n",
    "plt.grid()\n",
    "plt.legend()"
   ]
  },
  {
   "cell_type": "code",
   "execution_count": null,
   "id": "c0e18f73",
   "metadata": {},
   "outputs": [],
   "source": []
  },
  {
   "cell_type": "code",
   "execution_count": null,
   "id": "9c8e5a35",
   "metadata": {},
   "outputs": [],
   "source": []
  }
 ],
 "metadata": {
  "kernelspec": {
   "display_name": "Python 3",
   "language": "python",
   "name": "python3"
  },
  "language_info": {
   "codemirror_mode": {
    "name": "ipython",
    "version": 3
   },
   "file_extension": ".py",
   "mimetype": "text/x-python",
   "name": "python",
   "nbconvert_exporter": "python",
   "pygments_lexer": "ipython3",
   "version": "3.8.10"
  }
 },
 "nbformat": 4,
 "nbformat_minor": 5
}
